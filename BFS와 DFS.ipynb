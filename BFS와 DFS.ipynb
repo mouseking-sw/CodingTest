{
 "cells": [
  {
   "cell_type": "code",
   "execution_count": 2,
   "metadata": {},
   "outputs": [],
   "source": [
    "l=[1,2,3,4,5]\n"
   ]
  },
  {
   "cell_type": "code",
   "execution_count": 7,
   "metadata": {},
   "outputs": [
    {
     "name": "stdout",
     "output_type": "stream",
     "text": [
      "[2, 3, 4, 5]\n",
      "[3, 4, 5]\n",
      "[4, 5]\n"
     ]
    }
   ],
   "source": [
    "print(l)\n",
    "l.pop(0)\n",
    "print(l)\n",
    "l.pop(0)\n",
    "print(l)"
   ]
  },
  {
   "cell_type": "code",
   "execution_count": 3,
   "metadata": {
    "tags": []
   },
   "outputs": [
    {
     "output_type": "stream",
     "name": "stdout",
     "text": "[2, 3, 4, 5]\n[3, 4, 5]\n[4, 5]\n[5]\n[]\n"
    }
   ],
   "source": [
    "while l:\n",
    "    l.pop(0)\n",
    "    print(l)"
   ]
  },
  {
   "cell_type": "code",
   "execution_count": null,
   "metadata": {},
   "outputs": [],
   "source": []
  },
  {
   "cell_type": "code",
   "execution_count": 30,
   "metadata": {},
   "outputs": [],
   "source": [
    "graph = {\n",
    "    'A': ['B'],\n",
    "    'B': ['A', 'C', 'H'],\n",
    "    'C': ['B', 'D'],\n",
    "    'D': ['C', 'E', 'G'],\n",
    "    'E': ['D', 'F'],\n",
    "    'F': ['E'],\n",
    "    'G': ['D'],\n",
    "    'H': ['B', 'I', 'J', 'M'],\n",
    "    'I': ['H'],\n",
    "    'J': ['H', 'K'],\n",
    "    'K': ['J', 'L'],\n",
    "    'L': ['K'],\n",
    "    'M': ['H']\n",
    "}"
   ]
  },
  {
   "cell_type": "code",
   "execution_count": 31,
   "metadata": {
    "tags": []
   },
   "outputs": [
    {
     "output_type": "stream",
     "name": "stdout",
     "text": "{'A': ['B'], 'B': ['A', 'C', 'H'], 'C': ['B', 'D'], 'D': ['C', 'E', 'G'], 'E': ['D', 'F'], 'F': ['E'], 'G': ['D'], 'H': ['B', 'I', 'J', 'M'], 'I': ['H'], 'J': ['H', 'K'], 'K': ['J', 'L'], 'L': ['K'], 'M': ['H']}\n"
    }
   ],
   "source": [
    "print(graph)"
   ]
  },
  {
   "cell_type": "code",
   "execution_count": 32,
   "metadata": {},
   "outputs": [],
   "source": [
    "def bfs(graph,start_node):\n",
    "    visit=[]\n",
    "    queue=[]\n",
    "    queue.append(start_node)\n",
    "\n",
    "    while queue :\n",
    "        node = queue.pop(0) # \n",
    "        if node not in visit: # 방문한적 없으면\n",
    "            visit.append(node) # 방문기록 남김\n",
    "            queue.extend(graph[node]) # queue 붙임 각각의 노드를 list\n",
    "\n",
    "    return visit\n",
    "\n",
    "# Queue : A - B\n",
    "# node :  A - \n",
    "# visit:  A -\n",
    "\n"
   ]
  },
  {
   "cell_type": "code",
   "execution_count": 33,
   "metadata": {
    "tags": []
   },
   "outputs": [],
   "source": [
    "def dfs(graph, start_node):\n",
    "   visit = list()\n",
    "   stack = list()\n",
    "   stack.append(start_node)\n",
    "   while stack:\n",
    "       node = stack.pop()\n",
    "       if node not in visit:\n",
    "           visit.append(node)\n",
    "           stack.extend(graph[node])\n",
    "   return visit"
   ]
  },
  {
   "cell_type": "code",
   "execution_count": 34,
   "metadata": {
    "tags": []
   },
   "outputs": [
    {
     "output_type": "execute_result",
     "data": {
      "text/plain": "['A', 'B', 'C', 'H', 'D', 'I', 'J', 'M', 'E', 'G', 'K', 'F', 'L']"
     },
     "metadata": {},
     "execution_count": 34
    }
   ],
   "source": [
    "bfs(graph,'A')"
   ]
  },
  {
   "cell_type": "code",
   "execution_count": 35,
   "metadata": {
    "tags": []
   },
   "outputs": [
    {
     "output_type": "execute_result",
     "data": {
      "text/plain": "['A', 'B', 'H', 'M', 'J', 'K', 'L', 'I', 'C', 'D', 'G', 'E', 'F']"
     },
     "metadata": {},
     "execution_count": 35
    }
   ],
   "source": [
    "dfs(graph,'A')"
   ]
  },
  {
   "cell_type": "code",
   "execution_count": 28,
   "metadata": {},
   "outputs": [],
   "source": [
    "visit = list()\n",
    "stack = list()\n",
    "stack.append\n"
   ]
  },
  {
   "cell_type": "code",
   "execution_count": 40,
   "metadata": {},
   "outputs": [],
   "source": [
    "### 하지만 Queue는 에서 pop(0)을 이용하는 것은 매우 비효율 적이기 때문에\n",
    "### pop(0) 사용하기 보다는 queue라이브러리를 사용할 것\n",
    "from queue import Queue\n",
    "\n",
    "def bfs(graph,start_node):\n",
    "    visit =set()\n",
    "    q=Queue()\n",
    "    q.put(start_node)\n",
    "\n",
    "    while q.qsize()>0:\n",
    "        node = q.get() # popup(0)과 같은 기능을 수행\n",
    "        if node not in visit:\n",
    "            visit.add(node)\n",
    "            for nextNode in graph[node]:\n",
    "                q.put(nextNode)\n",
    "    return visit           \n",
    "\n",
    "\n"
   ]
  },
  {
   "cell_type": "code",
   "execution_count": 41,
   "metadata": {},
   "outputs": [
    {
     "output_type": "execute_result",
     "data": {
      "text/plain": "{'A', 'B', 'C', 'D', 'E', 'F', 'G', 'H', 'I', 'J', 'K', 'L', 'M'}"
     },
     "metadata": {},
     "execution_count": 41
    }
   ],
   "source": [
    "bfs(graph,'A')"
   ]
  },
  {
   "cell_type": "code",
   "execution_count": 49,
   "metadata": {},
   "outputs": [
    {
     "output_type": "execute_result",
     "data": {
      "text/plain": "1"
     },
     "metadata": {},
     "execution_count": 49
    }
   ],
   "source": [
    "## queue \n",
    "import queue\n",
    "q=queue.Queue()\n",
    "q.put('apple')  # put() 데이터를 입력 받음\n",
    "q.put('banana')\n",
    "q.put(10)     \n",
    "q.qsize()    # que의 사이즈를 확인\n",
    "q.get()      # FIFO 구조로 가장 먼저 들어온 데이터 부터 출력됨\n",
    "q.get()\n",
    "q.qsize()    "
   ]
  },
  {
   "cell_type": "code",
   "execution_count": null,
   "metadata": {},
   "outputs": [],
   "source": []
  }
 ],
 "metadata": {
  "kernelspec": {
   "display_name": "Python 3",
   "language": "python",
   "name": "python3"
  },
  "language_info": {
   "codemirror_mode": {
    "name": "ipython",
    "version": 3
   },
   "file_extension": ".py",
   "mimetype": "text/x-python",
   "name": "python",
   "nbconvert_exporter": "python",
   "pygments_lexer": "ipython3",
   "version": "3.8.1-final"
  }
 },
 "nbformat": 4,
 "nbformat_minor": 2
}