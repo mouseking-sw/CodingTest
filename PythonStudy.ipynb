{
 "cells": [
  {
   "cell_type": "code",
   "execution_count": 1,
   "metadata": {},
   "outputs": [
    {
     "name": "stdout",
     "output_type": "stream",
     "text": [
      "나비\n",
      "zzzzzzzzz\n"
     ]
    }
   ],
   "source": [
    "print('나비')\n",
    "print(\"z\"*9)"
   ]
  },
  {
   "cell_type": "code",
   "execution_count": 6,
   "metadata": {},
   "outputs": [
    {
     "name": "stdout",
     "output_type": "stream",
     "text": [
      "False\n",
      "True\n",
      "True\n",
      "False\n",
      "True\n"
     ]
    }
   ],
   "source": [
    "print(5>10)\n",
    "print(5<10)\n",
    "print(True)\n",
    "print(not True)  ## true 의 반대\n",
    "print(not 5>10)"
   ]
  },
  {
   "cell_type": "markdown",
   "metadata": {},
   "source": [
    "## 변수\n"
   ]
  },
  {
   "cell_type": "code",
   "execution_count": 7,
   "metadata": {},
   "outputs": [],
   "source": [
    "\n",
    "animal = \"강아지\"\n",
    "name = \"연탄이\"\n",
    "age=4\n",
    "hobby =\"산책\"\n",
    "is_adult=age >= 3"
   ]
  },
  {
   "cell_type": "code",
   "execution_count": 8,
   "metadata": {},
   "outputs": [
    {
     "name": "stdout",
     "output_type": "stream",
     "text": [
      "우리집강아지의 이름은연탄이예요\n"
     ]
    }
   ],
   "source": [
    "print(\"우리집\"+animal+\"의 이름은\"+ name +\"예요\")"
   ]
  },
  {
   "cell_type": "code",
   "execution_count": 16,
   "metadata": {},
   "outputs": [
    {
     "name": "stdout",
     "output_type": "stream",
     "text": [
      "연탄이 는 4 살이며, 산책 을 아주 좋아해요\n"
     ]
    }
   ],
   "source": [
    "print(name,\"는\",age,\"살이며,\",hobby,\"을 아주 좋아해요\")"
   ]
  },
  {
   "cell_type": "code",
   "execution_count": 19,
   "metadata": {
    "scrolled": true
   },
   "outputs": [
    {
     "name": "stdout",
     "output_type": "stream",
     "text": [
      "인천공항행 열차가 들어오고 있습니다\n"
     ]
    }
   ],
   "source": [
    "station = \"인천공항\"\n",
    "print(station+\"행 열차가 들어오고 있습니다\")"
   ]
  },
  {
   "cell_type": "markdown",
   "metadata": {},
   "source": [
    "# 연산자"
   ]
  },
  {
   "cell_type": "code",
   "execution_count": 21,
   "metadata": {},
   "outputs": [
    {
     "name": "stdout",
     "output_type": "stream",
     "text": [
      "2\n"
     ]
    }
   ],
   "source": [
    "print(1+1)\n"
   ]
  },
  {
   "cell_type": "code",
   "execution_count": 22,
   "metadata": {},
   "outputs": [
    {
     "name": "stdout",
     "output_type": "stream",
     "text": [
      "2\n"
     ]
    }
   ],
   "source": [
    "print(3-1)"
   ]
  },
  {
   "cell_type": "code",
   "execution_count": 23,
   "metadata": {},
   "outputs": [
    {
     "name": "stdout",
     "output_type": "stream",
     "text": [
      "10\n"
     ]
    }
   ],
   "source": [
    "print(5*2)"
   ]
  },
  {
   "cell_type": "code",
   "execution_count": 24,
   "metadata": {},
   "outputs": [
    {
     "name": "stdout",
     "output_type": "stream",
     "text": [
      "2.0\n"
     ]
    }
   ],
   "source": [
    "print(6/3)"
   ]
  },
  {
   "cell_type": "code",
   "execution_count": 25,
   "metadata": {},
   "outputs": [
    {
     "name": "stdout",
     "output_type": "stream",
     "text": [
      "8\n"
     ]
    }
   ],
   "source": [
    "print(2**3) # 2^3"
   ]
  },
  {
   "cell_type": "code",
   "execution_count": 27,
   "metadata": {},
   "outputs": [
    {
     "name": "stdout",
     "output_type": "stream",
     "text": [
      "2\n",
      "1\n"
     ]
    }
   ],
   "source": [
    "print(5%3)  #나머지 구하기\n",
    "print(5//3) #몫"
   ]
  },
  {
   "cell_type": "code",
   "execution_count": 28,
   "metadata": {},
   "outputs": [
    {
     "name": "stdout",
     "output_type": "stream",
     "text": [
      "True\n"
     ]
    }
   ],
   "source": [
    "print(10>3)"
   ]
  },
  {
   "cell_type": "code",
   "execution_count": 29,
   "metadata": {},
   "outputs": [
    {
     "name": "stdout",
     "output_type": "stream",
     "text": [
      "False\n"
     ]
    }
   ],
   "source": [
    "print(4>=7)"
   ]
  },
  {
   "cell_type": "code",
   "execution_count": 30,
   "metadata": {},
   "outputs": [
    {
     "name": "stdout",
     "output_type": "stream",
     "text": [
      "True\n"
     ]
    }
   ],
   "source": [
    "print(5<=5)"
   ]
  },
  {
   "cell_type": "code",
   "execution_count": 32,
   "metadata": {},
   "outputs": [
    {
     "name": "stdout",
     "output_type": "stream",
     "text": [
      "True\n"
     ]
    }
   ],
   "source": [
    "print(3==3) #3은 3과 똑같다"
   ]
  },
  {
   "cell_type": "code",
   "execution_count": 33,
   "metadata": {},
   "outputs": [
    {
     "name": "stdout",
     "output_type": "stream",
     "text": [
      "False\n"
     ]
    }
   ],
   "source": [
    "print(4==2) # 다르다 false"
   ]
  },
  {
   "cell_type": "code",
   "execution_count": 34,
   "metadata": {},
   "outputs": [
    {
     "name": "stdout",
     "output_type": "stream",
     "text": [
      "True\n"
     ]
    }
   ],
   "source": [
    "print(1!=3)  #1과 3은 같지않다."
   ]
  },
  {
   "cell_type": "code",
   "execution_count": 36,
   "metadata": {},
   "outputs": [
    {
     "name": "stdout",
     "output_type": "stream",
     "text": [
      "False\n"
     ]
    }
   ],
   "source": [
    "print(not(1 !=3)) # 1과 3은 다르므로 True, not True => False"
   ]
  },
  {
   "cell_type": "code",
   "execution_count": 37,
   "metadata": {},
   "outputs": [
    {
     "name": "stdout",
     "output_type": "stream",
     "text": [
      "True\n"
     ]
    }
   ],
   "source": [
    "print((3>0) and (3<5))\n"
   ]
  },
  {
   "cell_type": "code",
   "execution_count": 38,
   "metadata": {},
   "outputs": [
    {
     "name": "stdout",
     "output_type": "stream",
     "text": [
      "True\n"
     ]
    }
   ],
   "source": [
    "print((3>0) or (3<5))\n"
   ]
  },
  {
   "cell_type": "markdown",
   "metadata": {},
   "source": [
    "# 수식"
   ]
  },
  {
   "cell_type": "code",
   "execution_count": 39,
   "metadata": {},
   "outputs": [
    {
     "name": "stdout",
     "output_type": "stream",
     "text": [
      "14\n"
     ]
    }
   ],
   "source": [
    "print(2+3*4)"
   ]
  },
  {
   "cell_type": "code",
   "execution_count": 49,
   "metadata": {},
   "outputs": [],
   "source": [
    "number = 2+3+4"
   ]
  },
  {
   "cell_type": "code",
   "execution_count": 50,
   "metadata": {},
   "outputs": [
    {
     "name": "stdout",
     "output_type": "stream",
     "text": [
      "9\n"
     ]
    }
   ],
   "source": [
    "print(number)"
   ]
  },
  {
   "cell_type": "code",
   "execution_count": 51,
   "metadata": {},
   "outputs": [
    {
     "name": "stdout",
     "output_type": "stream",
     "text": [
      "11\n"
     ]
    }
   ],
   "source": [
    "number +=2\n",
    "print(number)"
   ]
  },
  {
   "cell_type": "code",
   "execution_count": 52,
   "metadata": {},
   "outputs": [
    {
     "name": "stdout",
     "output_type": "stream",
     "text": [
      "22\n"
     ]
    }
   ],
   "source": [
    "number*=2\n",
    "print(number)"
   ]
  },
  {
   "cell_type": "code",
   "execution_count": 53,
   "metadata": {},
   "outputs": [
    {
     "name": "stdout",
     "output_type": "stream",
     "text": [
      "20\n"
     ]
    }
   ],
   "source": [
    "number -=2\n",
    "print(number)"
   ]
  },
  {
   "cell_type": "code",
   "execution_count": 54,
   "metadata": {},
   "outputs": [
    {
     "name": "stdout",
     "output_type": "stream",
     "text": [
      "0\n"
     ]
    }
   ],
   "source": [
    "number %=2\n",
    "print (number)"
   ]
  },
  {
   "cell_type": "markdown",
   "metadata": {},
   "source": [
    "# 숫자처리 함수"
   ]
  },
  {
   "cell_type": "code",
   "execution_count": 55,
   "metadata": {},
   "outputs": [
    {
     "name": "stdout",
     "output_type": "stream",
     "text": [
      "5\n"
     ]
    }
   ],
   "source": [
    "print(abs(-5))"
   ]
  },
  {
   "cell_type": "code",
   "execution_count": 56,
   "metadata": {},
   "outputs": [
    {
     "name": "stdout",
     "output_type": "stream",
     "text": [
      "16\n"
     ]
    }
   ],
   "source": [
    "print(pow(4,2)) #4^2=16"
   ]
  },
  {
   "cell_type": "code",
   "execution_count": 57,
   "metadata": {},
   "outputs": [
    {
     "name": "stdout",
     "output_type": "stream",
     "text": [
      "4\n",
      "4\n",
      "4.0\n"
     ]
    }
   ],
   "source": [
    "from math import *\n",
    "print(floor(4.9)) # 내림\n",
    "print(ceil(3.14)) # 올림\n",
    "print(sqrt(16)) #제곱근"
   ]
  },
  {
   "cell_type": "markdown",
   "metadata": {},
   "source": [
    "#  랜덤함수"
   ]
  },
  {
   "cell_type": "code",
   "execution_count": 58,
   "metadata": {},
   "outputs": [],
   "source": [
    "from random import *"
   ]
  },
  {
   "cell_type": "code",
   "execution_count": 59,
   "metadata": {},
   "outputs": [
    {
     "name": "stdout",
     "output_type": "stream",
     "text": [
      "0.08269829355914016\n"
     ]
    }
   ],
   "source": [
    "print(random())"
   ]
  },
  {
   "cell_type": "code",
   "execution_count": 60,
   "metadata": {},
   "outputs": [
    {
     "name": "stdout",
     "output_type": "stream",
     "text": [
      "0.9350402039022355\n"
     ]
    }
   ],
   "source": [
    "print(random())"
   ]
  },
  {
   "cell_type": "code",
   "execution_count": 61,
   "metadata": {},
   "outputs": [
    {
     "name": "stdout",
     "output_type": "stream",
     "text": [
      "0.4025800216069486\n"
     ]
    }
   ],
   "source": [
    "print(random())"
   ]
  },
  {
   "cell_type": "code",
   "execution_count": 63,
   "metadata": {},
   "outputs": [
    {
     "name": "stdout",
     "output_type": "stream",
     "text": [
      "2.8986204508698457\n"
     ]
    }
   ],
   "source": [
    "print(random()*10) # 0~10 사이의 난수 발생"
   ]
  },
  {
   "cell_type": "code",
   "execution_count": 64,
   "metadata": {},
   "outputs": [
    {
     "name": "stdout",
     "output_type": "stream",
     "text": [
      "2\n"
     ]
    }
   ],
   "source": [
    "print(int(random()*10)) # 난수를 정수로 만들고 싶을 때"
   ]
  },
  {
   "cell_type": "code",
   "execution_count": 75,
   "metadata": {},
   "outputs": [
    {
     "name": "stdout",
     "output_type": "stream",
     "text": [
      "6\n",
      "9\n",
      "1\n",
      "9\n",
      "2\n",
      "8\n",
      "9\n",
      "4\n",
      "4\n"
     ]
    }
   ],
   "source": [
    "print(int(random()*10)+1)\n",
    "print(int(random()*10)+1)\n",
    "print(int(random()*10)+1)\n",
    "print(int(random()*10)+1)\n",
    "print(int(random()*10)+1)\n",
    "print(int(random()*10)+1)\n",
    "print(int(random()*10)+1)\n",
    "print(int(random()*10)+1)\n",
    "print(int(random()*10)+1)\n"
   ]
  },
  {
   "cell_type": "code",
   "execution_count": 68,
   "metadata": {},
   "outputs": [
    {
     "name": "stdout",
     "output_type": "stream",
     "text": [
      "24\n",
      "40\n",
      "44\n",
      "14\n",
      "15\n",
      "41\n",
      "1\n",
      "34\n"
     ]
    }
   ],
   "source": [
    "print(randrange(1,46))\n",
    "print(randrange(1,46))\n",
    "print(randrange(1,46))\n",
    "print(randrange(1,46))\n",
    "print(randrange(1,46))\n",
    "print(randrange(1,46))\n",
    "print(randrange(1,46))\n",
    "print(randrange(1,46))\n"
   ]
  },
  {
   "cell_type": "code",
   "execution_count": 77,
   "metadata": {},
   "outputs": [
    {
     "name": "stdout",
     "output_type": "stream",
     "text": [
      "31\n",
      "13\n",
      "38\n",
      "28\n",
      "28\n",
      "38\n"
     ]
    }
   ],
   "source": [
    "print(randint(1,45))\n",
    "print(randint(1,45))\n",
    "print(randint(1,45))\n",
    "print(randint(1,45))\n",
    "print(randint(1,45))\n",
    "print(randint(1,45))\n"
   ]
  },
  {
   "cell_type": "code",
   "execution_count": 85,
   "metadata": {},
   "outputs": [],
   "source": [
    "from random import *\n",
    "study_date=randrange(4,29) "
   ]
  },
  {
   "cell_type": "code",
   "execution_count": 86,
   "metadata": {},
   "outputs": [
    {
     "name": "stdout",
     "output_type": "stream",
     "text": [
      "오프라인 스터디 모임 날짜는 매월10일로 선정되었습니다\n"
     ]
    }
   ],
   "source": [
    "print(\"오프라인 스터디 모임 날짜는 매월\"+str(study_date)+\"일로 선정되었습니다\")"
   ]
  },
  {
   "cell_type": "markdown",
   "metadata": {},
   "source": [
    "# 문자열"
   ]
  },
  {
   "cell_type": "code",
   "execution_count": 88,
   "metadata": {},
   "outputs": [
    {
     "name": "stdout",
     "output_type": "stream",
     "text": [
      "나는 소녀입니다\n"
     ]
    }
   ],
   "source": [
    "sentence = \"나는 소녀입니다\"\n",
    "print(sentence)"
   ]
  },
  {
   "cell_type": "code",
   "execution_count": 91,
   "metadata": {},
   "outputs": [
    {
     "name": "stdout",
     "output_type": "stream",
     "text": [
      "파이썬은 쉬워요\n"
     ]
    }
   ],
   "source": [
    "sentense2 =\"파이썬은 쉬워요\"\n",
    "print(sentense2)"
   ]
  },
  {
   "cell_type": "code",
   "execution_count": 92,
   "metadata": {},
   "outputs": [
    {
     "name": "stdout",
     "output_type": "stream",
     "text": [
      "나는 소년이고, 파이썬은 쉬워요\n"
     ]
    }
   ],
   "source": [
    "sentense3 =\"\"\"나는 소년이고, 파이썬은 쉬워요\"\"\"\n",
    "print(sentense3)"
   ]
  },
  {
   "cell_type": "markdown",
   "metadata": {},
   "source": [
    "# 슬라이싱"
   ]
  },
  {
   "cell_type": "code",
   "execution_count": 93,
   "metadata": {},
   "outputs": [],
   "source": [
    "jumin =\"990120-1234567\""
   ]
  },
  {
   "cell_type": "code",
   "execution_count": 95,
   "metadata": {},
   "outputs": [
    {
     "name": "stdout",
     "output_type": "stream",
     "text": [
      "설명:1\n"
     ]
    }
   ],
   "source": [
    "print(\"설명:\"+jumin[7])"
   ]
  },
  {
   "cell_type": "code",
   "execution_count": 96,
   "metadata": {},
   "outputs": [
    {
     "name": "stdout",
     "output_type": "stream",
     "text": [
      "연:99\n",
      "월:01\n",
      "일:20\n"
     ]
    }
   ],
   "source": [
    "print(\"연:\" + jumin[0:2]) #0 부터 2직전까지\n",
    "print(\"월:\" + jumin[2:4]) #0 부터 4직전까지\n",
    "print(\"일:\" + jumin[4:6]) #0 부터 6직전까지"
   ]
  },
  {
   "cell_type": "code",
   "execution_count": 100,
   "metadata": {},
   "outputs": [
    {
     "name": "stdout",
     "output_type": "stream",
     "text": [
      "생년월일:990120\n",
      "생년월일:990120\n"
     ]
    }
   ],
   "source": [
    "print(\"생년월일:\" + jumin[0:6] ) # 처음부터 6직전까지\n",
    "print(\"생년월일:\" + jumin[:6] ) # 처음부터 6직전까지 (이렇게 사용해도 됨)"
   ]
  },
  {
   "cell_type": "code",
   "execution_count": 101,
   "metadata": {},
   "outputs": [
    {
     "name": "stdout",
     "output_type": "stream",
     "text": [
      "뒤 7자리:1234567\n"
     ]
    }
   ],
   "source": [
    "print(\"뒤 7자리:\"+ jumin[7:]) #7부터 끝까지"
   ]
  },
  {
   "cell_type": "code",
   "execution_count": 102,
   "metadata": {},
   "outputs": [
    {
     "name": "stdout",
     "output_type": "stream",
     "text": [
      "뒤 7자리(뒤에서  부터:1234567\n"
     ]
    }
   ],
   "source": [
    "print(\"뒤 7자리(뒤에서  부터:\"+ jumin[-7:])"
   ]
  },
  {
   "cell_type": "markdown",
   "metadata": {},
   "source": [
    "# 문자열 처리 함수\n"
   ]
  },
  {
   "cell_type": "markdown",
   "metadata": {},
   "source": [
    "python = \"python is Amazing\""
   ]
  },
  {
   "cell_type": "code",
   "execution_count": 3,
   "metadata": {},
   "outputs": [
    {
     "name": "stdout",
     "output_type": "stream",
     "text": [
      "python is amazing\n",
      "PYTHON IS AMAZING\n"
     ]
    }
   ],
   "source": [
    "print(python.lower())\n",
    "print(python.upper())\n"
   ]
  },
  {
   "cell_type": "code",
   "execution_count": 4,
   "metadata": {},
   "outputs": [
    {
     "name": "stdout",
     "output_type": "stream",
     "text": [
      "False\n"
     ]
    }
   ],
   "source": [
    "print(python[0].isupper())"
   ]
  },
  {
   "cell_type": "code",
   "execution_count": 9,
   "metadata": {},
   "outputs": [
    {
     "name": "stdout",
     "output_type": "stream",
     "text": [
      "17\n",
      "python is Amazing\n"
     ]
    }
   ],
   "source": [
    "print(len(python))\n",
    "print(python.replace(\"Python\",\"Java\"))"
   ]
  },
  {
   "cell_type": "code",
   "execution_count": 11,
   "metadata": {},
   "outputs": [
    {
     "name": "stdout",
     "output_type": "stream",
     "text": [
      "5\n"
     ]
    }
   ],
   "source": [
    "index = python.index(\"n\")\n",
    "print(index)"
   ]
  },
  {
   "cell_type": "code",
   "execution_count": 12,
   "metadata": {},
   "outputs": [
    {
     "name": "stdout",
     "output_type": "stream",
     "text": [
      "15\n"
     ]
    }
   ],
   "source": [
    "index = python.index(\"n\",index+1)\n",
    "print(index)       # python = \"python is Amazing\" 이므로 index +1은  두번째 n을 찾는다"
   ]
  },
  {
   "cell_type": "code",
   "execution_count": 13,
   "metadata": {},
   "outputs": [
    {
     "name": "stdout",
     "output_type": "stream",
     "text": [
      "-1\n"
     ]
    }
   ],
   "source": [
    "print(python.find(\"Java\"))   #없으면 -1 출력"
   ]
  },
  {
   "cell_type": "code",
   "execution_count": 18,
   "metadata": {},
   "outputs": [
    {
     "name": "stdout",
     "output_type": "stream",
     "text": [
      "10\n"
     ]
    }
   ],
   "source": [
    "print(python.index(\"JAVA\")) #index함수를 사용할 경우 에러가 발생 "
   ]
  },
  {
   "cell_type": "code",
   "execution_count": 19,
   "metadata": {},
   "outputs": [
    {
     "name": "stdout",
     "output_type": "stream",
     "text": [
      "7\n"
     ]
    }
   ],
   "source": [
    "print(python.index(\"is\"))  #문자열에서 인덱스 함수를 사용할 경우, 첫 글자의 인덱스 위치를  반환"
   ]
  },
  {
   "cell_type": "code",
   "execution_count": 24,
   "metadata": {},
   "outputs": [
    {
     "name": "stdout",
     "output_type": "stream",
     "text": [
      "2\n"
     ]
    }
   ],
   "source": [
    "print(python.count(\"n\")) \n"
   ]
  },
  {
   "cell_type": "markdown",
   "metadata": {},
   "source": [
    "# 문자열 포맷"
   ]
  },
  {
   "cell_type": "code",
   "execution_count": 25,
   "metadata": {},
   "outputs": [
    {
     "name": "stdout",
     "output_type": "stream",
     "text": [
      "ab\n",
      "a b\n"
     ]
    }
   ],
   "source": [
    "print(\"a\"+\"b\")\n",
    "print(\"a\",\"b\")"
   ]
  },
  {
   "cell_type": "code",
   "execution_count": 26,
   "metadata": {},
   "outputs": [
    {
     "name": "stdout",
     "output_type": "stream",
     "text": [
      "나는 36살입니다.\n"
     ]
    }
   ],
   "source": [
    "print(\"나는 %d살입니다.\" %36)"
   ]
  },
  {
   "cell_type": "code",
   "execution_count": 30,
   "metadata": {},
   "outputs": [
    {
     "name": "stdout",
     "output_type": "stream",
     "text": [
      "나는 배드민턴을 좋아해요.\n"
     ]
    }
   ],
   "source": [
    "print(\"나는 %s을 좋아해요.\" %\"배드민턴\")"
   ]
  },
  {
   "cell_type": "code",
   "execution_count": 31,
   "metadata": {},
   "outputs": [
    {
     "name": "stdout",
     "output_type": "stream",
     "text": [
      "나는 36살입니다.\n"
     ]
    }
   ],
   "source": [
    "print(\"나는 %s살입니다.\" %36)"
   ]
  },
  {
   "cell_type": "code",
   "execution_count": 32,
   "metadata": {},
   "outputs": [
    {
     "name": "stdout",
     "output_type": "stream",
     "text": [
      "나는 파란색과 빨간색을 좋아해요.\n"
     ]
    }
   ],
   "source": [
    "print(\"나는 %s색과 %s색을 좋아해요.\" %(\"파란\",\"빨간\"))"
   ]
  },
  {
   "cell_type": "code",
   "execution_count": 33,
   "metadata": {},
   "outputs": [
    {
     "name": "stdout",
     "output_type": "stream",
     "text": [
      "나는 20살입니다\n"
     ]
    }
   ],
   "source": [
    "print(\"나는 {}살입니다\".format(20))"
   ]
  },
  {
   "cell_type": "code",
   "execution_count": 38,
   "metadata": {},
   "outputs": [
    {
     "name": "stdout",
     "output_type": "stream",
     "text": [
      "나는 파란색과 빨간색을 좋아해요.\n"
     ]
    }
   ],
   "source": [
    "print(\"나는 {}색과 {}색을 좋아해요.\".format(\"파란\",\"빨간\"))"
   ]
  },
  {
   "cell_type": "code",
   "execution_count": 40,
   "metadata": {},
   "outputs": [
    {
     "name": "stdout",
     "output_type": "stream",
     "text": [
      "나는 빨간색과 파란색을 좋아해요.\n"
     ]
    }
   ],
   "source": [
    "print(\"나는 {1}색과 {0}색을 좋아해요.\".format(\"파란\",\"빨간\"))  #변수 index를 순서를 바꿔서 입력가능"
   ]
  },
  {
   "cell_type": "code",
   "execution_count": 41,
   "metadata": {},
   "outputs": [
    {
     "name": "stdout",
     "output_type": "stream",
     "text": [
      "나는 20살이며, 빨간색을 좋아해요.\n"
     ]
    }
   ],
   "source": [
    "print(\"나는 {age}살이며, {color}색을 좋아해요.\".format(age=20,color=\"빨간\")) #내가 정의한 변수로 입력가능"
   ]
  },
  {
   "cell_type": "markdown",
   "metadata": {},
   "source": [
    "# 탈출문자"
   ]
  },
  {
   "cell_type": "code",
   "execution_count": 43,
   "metadata": {},
   "outputs": [
    {
     "ename": "SyntaxError",
     "evalue": "EOL while scanning string literal (<ipython-input-43-1622fb00f1a0>, line 1)",
     "output_type": "error",
     "traceback": [
      "\u001b[0;36m  File \u001b[0;32m\"<ipython-input-43-1622fb00f1a0>\"\u001b[0;36m, line \u001b[0;32m1\u001b[0m\n\u001b[0;31m    print(\"백문이 불여일견\u001b[0m\n\u001b[0m                    ^\u001b[0m\n\u001b[0;31mSyntaxError\u001b[0m\u001b[0;31m:\u001b[0m EOL while scanning string literal\n"
     ]
    }
   ],
   "source": [
    "print(\"백문이 불여일견 \n",
    "      백견이 불여일타\")"
   ]
  },
  {
   "cell_type": "code",
   "execution_count": 45,
   "metadata": {},
   "outputs": [
    {
     "name": "stdout",
     "output_type": "stream",
     "text": [
      "백문이 불여일견 \n",
      "백견이 불여일타\n"
     ]
    }
   ],
   "source": [
    "print(\"백문이 불여일견 \\n백견이 불여일타\")"
   ]
  },
  {
   "cell_type": "code",
   "execution_count": 46,
   "metadata": {},
   "outputs": [
    {
     "ename": "SyntaxError",
     "evalue": "invalid syntax (<ipython-input-46-d9b09559ca95>, line 1)",
     "output_type": "error",
     "traceback": [
      "\u001b[0;36m  File \u001b[0;32m\"<ipython-input-46-d9b09559ca95>\"\u001b[0;36m, line \u001b[0;32m1\u001b[0m\n\u001b[0;31m    print(\"저는 \"나도코딩\" 입니다.\")\u001b[0m\n\u001b[0m                  ^\u001b[0m\n\u001b[0;31mSyntaxError\u001b[0m\u001b[0;31m:\u001b[0m invalid syntax\n"
     ]
    }
   ],
   "source": [
    "print(\"저는 \"나도코딩\" 입니다.\")"
   ]
  },
  {
   "cell_type": "code",
   "execution_count": 47,
   "metadata": {},
   "outputs": [
    {
     "name": "stdout",
     "output_type": "stream",
     "text": [
      "저는 \"나도코딩\" 입니다\n"
     ]
    }
   ],
   "source": [
    "print('저는 \"나도코딩\" 입니다')"
   ]
  },
  {
   "cell_type": "code",
   "execution_count": 49,
   "metadata": {},
   "outputs": [
    {
     "name": "stdout",
     "output_type": "stream",
     "text": [
      "저는 \"나도코딩\"입니다.\n"
     ]
    }
   ],
   "source": [
    "print(\"저는 \\\"나도코딩\\\"입니다.\")   # \\\" \\'  는 문장내에서 따옴표로 가능"
   ]
  },
  {
   "cell_type": "code",
   "execution_count": 51,
   "metadata": {},
   "outputs": [
    {
     "name": "stdout",
     "output_type": "stream",
     "text": [
      "Pine\n"
     ]
    }
   ],
   "source": [
    "print(\"red Apple\\rPine\") #\\r을 만나면 맨앞으로 이동"
   ]
  },
  {
   "cell_type": "code",
   "execution_count": 53,
   "metadata": {},
   "outputs": [
    {
     "name": "stdout",
     "output_type": "stream",
     "text": [
      "Redd\bApple\n"
     ]
    }
   ],
   "source": [
    "print(\"Redd\\bApple\") #\\b를 만나면 삭제"
   ]
  },
  {
   "cell_type": "markdown",
   "metadata": {},
   "source": [
    "# 퀴즈"
   ]
  },
  {
   "cell_type": "code",
   "execution_count": 56,
   "metadata": {},
   "outputs": [
    {
     "name": "stdout",
     "output_type": "stream",
     "text": [
      "http://naver.com\n"
     ]
    }
   ],
   "source": [
    "site_add=\"http://naver.com\"\n",
    "print(site_add)\n"
   ]
  },
  {
   "cell_type": "code",
   "execution_count": 65,
   "metadata": {},
   "outputs": [
    {
     "name": "stdout",
     "output_type": "stream",
     "text": [
      "5\n"
     ]
    },
    {
     "data": {
      "text/plain": [
       "5"
      ]
     },
     "execution_count": 65,
     "metadata": {},
     "output_type": "execute_result"
    }
   ],
   "source": [
    "# http:// 부분을 제외 # => naver.com\n",
    "print(site_add.index(\"//\"))\n",
    "pwd=site_add[site_add.index(\"//\")+2:-4]\n",
    "len(pwd)"
   ]
  },
  {
   "cell_type": "code",
   "execution_count": 76,
   "metadata": {},
   "outputs": [
    {
     "name": "stdout",
     "output_type": "stream",
     "text": [
      "생성된 비밀번호: nav51!\n"
     ]
    }
   ],
   "source": [
    "print(\"생성된 비밀번호:\"+' '+pwd[0:3]+str(len(pwd))+str(pwd.count('e'))+'!')"
   ]
  },
  {
   "cell_type": "code",
   "execution_count": 73,
   "metadata": {},
   "outputs": [
    {
     "data": {
      "text/plain": [
       "'nav'"
      ]
     },
     "execution_count": 73,
     "metadata": {},
     "output_type": "execute_result"
    }
   ],
   "source": [
    "pwd[0:3]"
   ]
  },
  {
   "cell_type": "markdown",
   "metadata": {},
   "source": [
    "# 리스트\n"
   ]
  },
  {
   "cell_type": "code",
   "execution_count": 78,
   "metadata": {},
   "outputs": [
    {
     "name": "stdout",
     "output_type": "stream",
     "text": [
      "[10, 20, 30]\n"
     ]
    }
   ],
   "source": [
    "#지하철 칸별로 10명, 20명 , 30명\n",
    "subway = [10,20,30]\n",
    "print(subway)"
   ]
  },
  {
   "cell_type": "code",
   "execution_count": 80,
   "metadata": {},
   "outputs": [
    {
     "name": "stdout",
     "output_type": "stream",
     "text": [
      "['유재석', '조세호', '박명수']\n"
     ]
    }
   ],
   "source": [
    "subway = [\"유재석\",\"조세호\",\"박명수\"]\n",
    "print(subway)"
   ]
  },
  {
   "cell_type": "code",
   "execution_count": 81,
   "metadata": {},
   "outputs": [
    {
     "name": "stdout",
     "output_type": "stream",
     "text": [
      "1\n"
     ]
    }
   ],
   "source": [
    "print(subway.index(\"조세호\"))"
   ]
  },
  {
   "cell_type": "code",
   "execution_count": 82,
   "metadata": {},
   "outputs": [],
   "source": [
    "#append 하하탑승\n",
    "subway.append(\"하하\")\n"
   ]
  },
  {
   "cell_type": "code",
   "execution_count": 83,
   "metadata": {},
   "outputs": [
    {
     "name": "stdout",
     "output_type": "stream",
     "text": [
      "['유재석', '조세호', '박명수', '하하']\n"
     ]
    }
   ],
   "source": [
    "print(subway)"
   ]
  },
  {
   "cell_type": "code",
   "execution_count": 84,
   "metadata": {},
   "outputs": [
    {
     "name": "stdout",
     "output_type": "stream",
     "text": [
      "['유재석', '정형돈', '조세호', '박명수', '하하']\n"
     ]
    }
   ],
   "source": [
    "#정형돈 탑승 \n",
    "subway.insert(1,\"정형돈\")\n",
    "print(subway)"
   ]
  },
  {
   "cell_type": "code",
   "execution_count": 85,
   "metadata": {},
   "outputs": [
    {
     "name": "stdout",
     "output_type": "stream",
     "text": [
      "하하\n",
      "['유재석', '정형돈', '조세호', '박명수']\n"
     ]
    }
   ],
   "source": [
    "#꺼냄\n",
    "print(subway.pop())\n",
    "print(subway)"
   ]
  },
  {
   "cell_type": "code",
   "execution_count": 86,
   "metadata": {},
   "outputs": [
    {
     "name": "stdout",
     "output_type": "stream",
     "text": [
      "박명수\n",
      "['유재석', '정형돈', '조세호']\n"
     ]
    }
   ],
   "source": [
    "print(subway.pop())\n",
    "print(subway)"
   ]
  },
  {
   "cell_type": "code",
   "execution_count": 87,
   "metadata": {},
   "outputs": [
    {
     "name": "stdout",
     "output_type": "stream",
     "text": [
      "조세호\n",
      "['유재석', '정형돈']\n"
     ]
    }
   ],
   "source": [
    "print(subway.pop())\n",
    "print(subway)"
   ]
  },
  {
   "cell_type": "code",
   "execution_count": 88,
   "metadata": {},
   "outputs": [],
   "source": [
    "#같은사람 몇명인지 찾기\n",
    "subway.append(\"유재석\")"
   ]
  },
  {
   "cell_type": "code",
   "execution_count": 89,
   "metadata": {},
   "outputs": [
    {
     "data": {
      "text/plain": [
       "2"
      ]
     },
     "execution_count": 89,
     "metadata": {},
     "output_type": "execute_result"
    }
   ],
   "source": [
    "subway.count(\"유재석\")"
   ]
  },
  {
   "cell_type": "code",
   "execution_count": 109,
   "metadata": {},
   "outputs": [
    {
     "name": "stdout",
     "output_type": "stream",
     "text": [
      "[5, 2, 4, 3, 1]\n"
     ]
    }
   ],
   "source": [
    "num_list =[5,2,4,3,1]\n",
    "print(num_list)"
   ]
  },
  {
   "cell_type": "code",
   "execution_count": 118,
   "metadata": {},
   "outputs": [
    {
     "name": "stdout",
     "output_type": "stream",
     "text": [
      "[1, 2, 3, 4, 5]\n"
     ]
    }
   ],
   "source": [
    "num_list.sort()\n",
    "print(num_list) # print(num_list.sort() 출력하면 none을 반환"
   ]
  },
  {
   "cell_type": "code",
   "execution_count": 119,
   "metadata": {},
   "outputs": [
    {
     "name": "stdout",
     "output_type": "stream",
     "text": [
      "[5, 4, 3, 2, 1]\n"
     ]
    }
   ],
   "source": [
    "#뒤집기 가능\n",
    "num_list.reverse()\n",
    "print(num_list)\n"
   ]
  },
  {
   "cell_type": "code",
   "execution_count": 120,
   "metadata": {},
   "outputs": [
    {
     "name": "stdout",
     "output_type": "stream",
     "text": [
      "[]\n"
     ]
    }
   ],
   "source": [
    "#모두 지우기\n",
    "num_list.clear()\n",
    "print(num_list)"
   ]
  },
  {
   "cell_type": "code",
   "execution_count": 125,
   "metadata": {},
   "outputs": [
    {
     "name": "stdout",
     "output_type": "stream",
     "text": [
      "['조세호', 0, True]\n"
     ]
    }
   ],
   "source": [
    "#다양한 자료형과 함께 사용\n",
    "mix_list = ['조세호',0,True] #True는 T를 대문자로 표기해야함 (에러 원인)\n",
    "print(mix_list)"
   ]
  },
  {
   "cell_type": "markdown",
   "metadata": {},
   "source": [
    "# 사전\n"
   ]
  },
  {
   "cell_type": "code",
   "execution_count": 127,
   "metadata": {},
   "outputs": [
    {
     "name": "stdout",
     "output_type": "stream",
     "text": [
      "유재석\n",
      "김태호\n"
     ]
    }
   ],
   "source": [
    "cabinet = {3:\"유재석\",100:\"김태호\"} #사전은 중괄호\n",
    "print(cabinet[3])\n",
    "print(cabinet[100])"
   ]
  },
  {
   "cell_type": "code",
   "execution_count": 128,
   "metadata": {},
   "outputs": [
    {
     "name": "stdout",
     "output_type": "stream",
     "text": [
      "유재석\n"
     ]
    }
   ],
   "source": [
    "print(cabinet.get(3))"
   ]
  },
  {
   "cell_type": "code",
   "execution_count": 130,
   "metadata": {},
   "outputs": [
    {
     "ename": "KeyError",
     "evalue": "5",
     "output_type": "error",
     "traceback": [
      "\u001b[0;31m---------------------------------------------------------------------------\u001b[0m",
      "\u001b[0;31mKeyError\u001b[0m                                  Traceback (most recent call last)",
      "\u001b[0;32m<ipython-input-130-753265a2e572>\u001b[0m in \u001b[0;36m<module>\u001b[0;34m\u001b[0m\n\u001b[0;32m----> 1\u001b[0;31m \u001b[0mprint\u001b[0m\u001b[0;34m(\u001b[0m\u001b[0mcabinet\u001b[0m\u001b[0;34m[\u001b[0m\u001b[0;36m5\u001b[0m\u001b[0;34m]\u001b[0m\u001b[0;34m)\u001b[0m\u001b[0;34m\u001b[0m\u001b[0;34m\u001b[0m\u001b[0m\n\u001b[0m",
      "\u001b[0;31mKeyError\u001b[0m: 5"
     ]
    }
   ],
   "source": [
    "print(cabinet[5])"
   ]
  },
  {
   "cell_type": "code",
   "execution_count": 132,
   "metadata": {},
   "outputs": [
    {
     "name": "stdout",
     "output_type": "stream",
     "text": [
      "None\n",
      "사용가능\n"
     ]
    }
   ],
   "source": [
    "print(cabinet.get(5))\n",
    "print(cabinet.get(5,\"사용가능\"))"
   ]
  },
  {
   "cell_type": "code",
   "execution_count": 134,
   "metadata": {},
   "outputs": [
    {
     "name": "stdout",
     "output_type": "stream",
     "text": [
      "True\n",
      "False\n"
     ]
    }
   ],
   "source": [
    "print( 3 in cabinet)\n",
    "print( 5 in cabinet)\n"
   ]
  },
  {
   "cell_type": "code",
   "execution_count": 136,
   "metadata": {},
   "outputs": [
    {
     "name": "stdout",
     "output_type": "stream",
     "text": [
      "유재석\n",
      "김태호\n"
     ]
    }
   ],
   "source": [
    "#KEY값을 문자열도 가능\n",
    "cabinet ={\"A-3\":\"유재석\",\"B-100\":\"김태호\"}\n",
    "print(cabinet[\"A-3\"])\n",
    "print(cabinet[\"B-100\"])"
   ]
  },
  {
   "cell_type": "code",
   "execution_count": 140,
   "metadata": {},
   "outputs": [
    {
     "name": "stdout",
     "output_type": "stream",
     "text": [
      "{'A-3': '유재석', 'B-100': '김태호', 'c-20': '조세호'}\n",
      "{'A-3': '유재석', 'B-100': '김태호', 'c-20': '조세호'}\n"
     ]
    }
   ],
   "source": [
    "#새손님\n",
    "print(cabinet)\n",
    "#cabinet[\"A-3\"]\n",
    "cabinet[\"c-20\"]=\"조세호\"  #없으면 넣고 있으면 업데이트 한다.\n",
    "print(cabinet)\n"
   ]
  },
  {
   "cell_type": "code",
   "execution_count": 142,
   "metadata": {},
   "outputs": [],
   "source": [
    "cabinet[\"A-3\"]=\"김종국\""
   ]
  },
  {
   "cell_type": "code",
   "execution_count": 143,
   "metadata": {},
   "outputs": [
    {
     "name": "stdout",
     "output_type": "stream",
     "text": [
      "{'A-3': '김종국', 'B-100': '김태호', 'c-20': '조세호'}\n"
     ]
    }
   ],
   "source": [
    "print(cabinet)"
   ]
  },
  {
   "cell_type": "code",
   "execution_count": 144,
   "metadata": {},
   "outputs": [],
   "source": [
    "# 김종국 캐비넷 비움\n",
    "del cabinet[\"A-3\"]"
   ]
  },
  {
   "cell_type": "code",
   "execution_count": 145,
   "metadata": {},
   "outputs": [
    {
     "name": "stdout",
     "output_type": "stream",
     "text": [
      "{'B-100': '김태호', 'c-20': '조세호'}\n"
     ]
    }
   ],
   "source": [
    "print(cabinet)"
   ]
  },
  {
   "cell_type": "code",
   "execution_count": 148,
   "metadata": {},
   "outputs": [
    {
     "name": "stdout",
     "output_type": "stream",
     "text": [
      "dict_keys(['B-100', 'c-20'])\n",
      "dict_values(['김태호', '조세호'])\n",
      "dict_items([('B-100', '김태호'), ('c-20', '조세호')])\n"
     ]
    }
   ],
   "source": [
    "\n",
    "print(cabinet.keys()) #key들만 출력\n",
    "print(cabinet.values()) #value만 출력\n",
    "print(cabinet.items())"
   ]
  },
  {
   "cell_type": "code",
   "execution_count": 149,
   "metadata": {},
   "outputs": [
    {
     "name": "stdout",
     "output_type": "stream",
     "text": [
      "{}\n"
     ]
    }
   ],
   "source": [
    "#목욕탕 폐점\n",
    "cabinet.clear()\n",
    "print(cabinet)"
   ]
  },
  {
   "cell_type": "markdown",
   "metadata": {},
   "source": [
    "# 튜플"
   ]
  },
  {
   "cell_type": "code",
   "execution_count": 150,
   "metadata": {},
   "outputs": [],
   "source": [
    "menu = (\"돈까스\",\"치즈까스\")  #튜플은 ()로 만든다!!\n"
   ]
  },
  {
   "cell_type": "code",
   "execution_count": 151,
   "metadata": {},
   "outputs": [
    {
     "name": "stdout",
     "output_type": "stream",
     "text": [
      "돈까스\n",
      "치즈까스\n"
     ]
    }
   ],
   "source": [
    "print(menu[0])\n",
    "print(menu[1])"
   ]
  },
  {
   "cell_type": "code",
   "execution_count": 152,
   "metadata": {},
   "outputs": [],
   "source": [
    "(name,age,hobby)=('조상원','37','배드민턴')"
   ]
  },
  {
   "cell_type": "code",
   "execution_count": 153,
   "metadata": {},
   "outputs": [
    {
     "name": "stdout",
     "output_type": "stream",
     "text": [
      "조상원 37 배드민턴\n"
     ]
    }
   ],
   "source": [
    "print(name,age,hobby)"
   ]
  },
  {
   "cell_type": "markdown",
   "metadata": {},
   "source": [
    "# 집합(set) 중복안됨, 순서없음"
   ]
  },
  {
   "cell_type": "code",
   "execution_count": 156,
   "metadata": {},
   "outputs": [
    {
     "name": "stdout",
     "output_type": "stream",
     "text": [
      "{1, 2, 3}\n"
     ]
    }
   ],
   "source": [
    "my_set= {1,2,3,3,3} #사전과 같이 {}를 사용하지만 혼동하지 않도록 주의\n",
    "print(my_set)  # 중복을 허용하지 않으므로 1,2,3 만들어가는 것을 볼 수 있다."
   ]
  },
  {
   "cell_type": "code",
   "execution_count": 158,
   "metadata": {},
   "outputs": [
    {
     "name": "stdout",
     "output_type": "stream",
     "text": [
      "{'유재석'}\n",
      "{'유재석'}\n"
     ]
    }
   ],
   "source": [
    "java = {\"유재석\",\"양세형\",\"김태호\"}\n",
    "python = {\"유재석\",\"박명수\"}\n",
    "print (java &python)  #교집합\n",
    "print (java.intersection(python))"
   ]
  },
  {
   "cell_type": "code",
   "execution_count": 160,
   "metadata": {},
   "outputs": [
    {
     "name": "stdout",
     "output_type": "stream",
     "text": [
      "{'양세형', '박명수', '김태호', '유재석'}\n",
      "{'양세형', '박명수', '김태호', '유재석'}\n"
     ]
    }
   ],
   "source": [
    "print(java|python)\n",
    "print(java.union(python))"
   ]
  },
  {
   "cell_type": "code",
   "execution_count": 162,
   "metadata": {},
   "outputs": [
    {
     "name": "stdout",
     "output_type": "stream",
     "text": [
      "{'김태호', '양세형'}\n",
      "{'김태호', '양세형'}\n"
     ]
    }
   ],
   "source": [
    "#차집합\n",
    "print(java-python)\n",
    "print(java.difference(python))"
   ]
  },
  {
   "cell_type": "code",
   "execution_count": 163,
   "metadata": {},
   "outputs": [
    {
     "name": "stdout",
     "output_type": "stream",
     "text": [
      "{'김태호', '박명수', '유재석'}\n"
     ]
    }
   ],
   "source": [
    "# python을 할 줄 아는 사람이 늘어남\n",
    "python.add(\"김태호\")\n",
    "print(python)"
   ]
  },
  {
   "cell_type": "code",
   "execution_count": 164,
   "metadata": {},
   "outputs": [],
   "source": [
    "java.remove(\"김태호\")"
   ]
  },
  {
   "cell_type": "code",
   "execution_count": 165,
   "metadata": {},
   "outputs": [
    {
     "name": "stdout",
     "output_type": "stream",
     "text": [
      "{'양세형', '유재석'}\n"
     ]
    }
   ],
   "source": [
    "print(java)"
   ]
  },
  {
   "cell_type": "code",
   "execution_count": 166,
   "metadata": {},
   "outputs": [
    {
     "name": "stdout",
     "output_type": "stream",
     "text": [
      "{'주스', '커피', '우유'} <class 'set'>\n"
     ]
    }
   ],
   "source": [
    "menu ={\"커피\",\"우유\",\"주스\"}\n",
    "print(menu,type(menu))  #자료 구조변경이 가능하다."
   ]
  },
  {
   "cell_type": "code",
   "execution_count": 167,
   "metadata": {},
   "outputs": [],
   "source": [
    "menu=list(menu) #리스트로 변환"
   ]
  },
  {
   "cell_type": "code",
   "execution_count": 168,
   "metadata": {},
   "outputs": [
    {
     "name": "stdout",
     "output_type": "stream",
     "text": [
      "['주스', '커피', '우유'] <class 'list'>\n"
     ]
    }
   ],
   "source": [
    "print(menu,type(menu))"
   ]
  },
  {
   "cell_type": "code",
   "execution_count": 169,
   "metadata": {},
   "outputs": [
    {
     "name": "stdout",
     "output_type": "stream",
     "text": [
      "('주스', '커피', '우유') <class 'tuple'>\n"
     ]
    }
   ],
   "source": [
    "menu = tuple(menu)\n",
    "print(menu,type(menu)) # 튜플로 변환"
   ]
  },
  {
   "cell_type": "markdown",
   "metadata": {},
   "source": [
    "# 퀴즈\n"
   ]
  },
  {
   "cell_type": "code",
   "execution_count": 186,
   "metadata": {},
   "outputs": [
    {
     "name": "stdout",
     "output_type": "stream",
     "text": [
      "[1, 2, 3, 4, 5, 6, 7, 8, 9, 10, 11, 12, 13, 14, 15, 16, 17, 18, 19, 20]\n"
     ]
    }
   ],
   "source": [
    " #내가 푼 방법\n",
    "from random import *\n",
    "raffle = [1,2,3,4,5,6,7,8,9,10,11,12,13,14,15,16,17,18,19,20]\n",
    "print(raffle)\n",
    "shuffle(raffle)\n"
   ]
  },
  {
   "cell_type": "code",
   "execution_count": 189,
   "metadata": {},
   "outputs": [
    {
     "name": "stdout",
     "output_type": "stream",
     "text": [
      "[4, 16, 9, 18, 7, 3, 10, 15, 8, 20, 13, 14, 19, 11, 12, 2, 5, 6, 1, 17]\n"
     ]
    }
   ],
   "source": [
    "print(raffle)"
   ]
  },
  {
   "cell_type": "code",
   "execution_count": 196,
   "metadata": {},
   "outputs": [],
   "source": [
    "cong1=sample(raffle,1)"
   ]
  },
  {
   "cell_type": "code",
   "execution_count": 203,
   "metadata": {},
   "outputs": [
    {
     "ename": "ValueError",
     "evalue": "[4] is not in list",
     "output_type": "error",
     "traceback": [
      "\u001b[0;31m---------------------------------------------------------------------------\u001b[0m",
      "\u001b[0;31mValueError\u001b[0m                                Traceback (most recent call last)",
      "\u001b[0;32m<ipython-input-203-f59db3aa2031>\u001b[0m in \u001b[0;36m<module>\u001b[0;34m\u001b[0m\n\u001b[0;32m----> 1\u001b[0;31m \u001b[0mraffle\u001b[0m\u001b[0;34m.\u001b[0m\u001b[0mindex\u001b[0m\u001b[0;34m(\u001b[0m\u001b[0mcong1\u001b[0m\u001b[0;34m)\u001b[0m\u001b[0;34m\u001b[0m\u001b[0;34m\u001b[0m\u001b[0m\n\u001b[0m",
      "\u001b[0;31mValueError\u001b[0m: [4] is not in list"
     ]
    }
   ],
   "source": [
    "raffle.index(cong1)"
   ]
  },
  {
   "cell_type": "code",
   "execution_count": 6,
   "metadata": {},
   "outputs": [
    {
     "name": "stdout",
     "output_type": "stream",
     "text": [
      "range(1, 21)\n"
     ]
    }
   ],
   "source": [
    "from random import *\n",
    "users= range(1,21)  ## 1~20까지\n",
    "print(users)"
   ]
  },
  {
   "cell_type": "code",
   "execution_count": 7,
   "metadata": {},
   "outputs": [
    {
     "name": "stdout",
     "output_type": "stream",
     "text": [
      "<class 'range'>\n"
     ]
    }
   ],
   "source": [
    "print(type(users))"
   ]
  },
  {
   "cell_type": "code",
   "execution_count": 8,
   "metadata": {},
   "outputs": [
    {
     "name": "stdout",
     "output_type": "stream",
     "text": [
      "<class 'list'>\n"
     ]
    }
   ],
   "source": [
    "users=list(users)\n",
    "print(type(users))"
   ]
  },
  {
   "cell_type": "code",
   "execution_count": 9,
   "metadata": {},
   "outputs": [
    {
     "name": "stdout",
     "output_type": "stream",
     "text": [
      "[1, 2, 3, 4, 5, 6, 7, 8, 9, 10, 11, 12, 13, 14, 15, 16, 17, 18, 19, 20]\n"
     ]
    }
   ],
   "source": [
    "print(users)"
   ]
  },
  {
   "cell_type": "code",
   "execution_count": 10,
   "metadata": {},
   "outputs": [
    {
     "name": "stdout",
     "output_type": "stream",
     "text": [
      "[6, 14, 9, 16, 20, 1, 17, 12, 7, 4, 2, 11, 19, 3, 13, 5, 8, 15, 18, 10]\n"
     ]
    }
   ],
   "source": [
    "shuffle(users)\n",
    "print(users)"
   ]
  },
  {
   "cell_type": "code",
   "execution_count": 209,
   "metadata": {},
   "outputs": [],
   "source": [
    "winners=sample(users,4)\n"
   ]
  },
  {
   "cell_type": "code",
   "execution_count": 215,
   "metadata": {},
   "outputs": [
    {
     "name": "stdout",
     "output_type": "stream",
     "text": [
      "------당첨자-------\n",
      "치킨:2\n",
      "커피:[8, 15, 12]\n",
      "-----축하합니다-----\n"
     ]
    }
   ],
   "source": [
    "print(\"------당첨자-------\")\n",
    "print(\"치킨:{0}\".format(winners[0]))\n",
    "print(\"커피:{0}\".format(winners[1:]))\n",
    "print(\"-----축하합니다-----\")"
   ]
  },
  {
   "cell_type": "markdown",
   "metadata": {},
   "source": [
    "# if"
   ]
  },
  {
   "cell_type": "code",
   "execution_count": 219,
   "metadata": {},
   "outputs": [
    {
     "name": "stdout",
     "output_type": "stream",
     "text": [
      "오늘 날씨는 어때요?눈\n",
      "우산을 챙기세요\n"
     ]
    }
   ],
   "source": [
    "weather = input(\"오늘 날씨는 어때요?\")\n",
    "if weather == \"비\" or weather ==\"눈\":\n",
    "    print(\"우산을 챙기세요\")\n",
    "elif weather ==\"미세먼지\":     #elif, else 표현유의\n",
    "    print(\"마스크를 챙기세요\")\n",
    "else:   \n",
    "    print(\"준비물 필요 없어요.\")"
   ]
  },
  {
   "cell_type": "code",
   "execution_count": 220,
   "metadata": {},
   "outputs": [
    {
     "name": "stdout",
     "output_type": "stream",
     "text": [
      "기온은 어때요?36\n",
      "너무 더워요. 나가지 마세요\n"
     ]
    }
   ],
   "source": [
    "temp= int(input(\"기온은 어때요?\"))  #input 변수를 숫자로 받는 경우는 정수형타입이 필요하니까 int형으로 변경한다.\n",
    "if 30<= temp:\n",
    "    print(\"너무 더워요. 나가지 마세요\")\n",
    "elif 10<= temp and temp < 30:\n",
    "    print(\"괜찮은 날씨에요.\")\n",
    "elif 0<= temp and temp <10 :\n",
    "    print(\"외투를 챙기세요\")\n",
    "else:\n",
    "    print(\"너무 추워요. 나가지마세요\")"
   ]
  },
  {
   "cell_type": "markdown",
   "metadata": {},
   "source": [
    "# 반복문"
   ]
  },
  {
   "cell_type": "code",
   "execution_count": 222,
   "metadata": {},
   "outputs": [
    {
     "name": "stdout",
     "output_type": "stream",
     "text": [
      "대기번호: 0\n",
      "대기번호: 1\n",
      "대기번호: 2\n",
      "대기번호: 3\n",
      "대기번호: 4\n"
     ]
    }
   ],
   "source": [
    "for waiting_no in range(5): # 0에서 부터 5미만까지\n",
    "    print(\"대기번호: {0}\".format(waiting_no))\n",
    "\n"
   ]
  },
  {
   "cell_type": "code",
   "execution_count": 223,
   "metadata": {},
   "outputs": [
    {
     "name": "stdout",
     "output_type": "stream",
     "text": [
      "아이언맨,커피가 준비되었습니다.\n",
      "토르,커피가 준비되었습니다.\n",
      "그루트,커피가 준비되었습니다.\n"
     ]
    }
   ],
   "source": [
    "starbucks= [\"아이언맨\",\"토르\",\"그루트\"]\n",
    "for customer in starbucks:\n",
    "    print(\"{0},커피가 준비되었습니다.\".format(customer))"
   ]
  },
  {
   "cell_type": "markdown",
   "metadata": {},
   "source": [
    "# while"
   ]
  },
  {
   "cell_type": "code",
   "execution_count": 225,
   "metadata": {},
   "outputs": [
    {
     "name": "stdout",
     "output_type": "stream",
     "text": [
      "토르, 커피가 준비되었습니다.5번 남았어요\n",
      "토르, 커피가 준비되었습니다.4번 남았어요\n",
      "토르, 커피가 준비되었습니다.3번 남았어요\n",
      "토르, 커피가 준비되었습니다.2번 남았어요\n",
      "토르, 커피가 준비되었습니다.1번 남았어요\n",
      "커피는 폐기처분 되었습니다.\n"
     ]
    }
   ],
   "source": [
    "customer =\"토르\"\n",
    "index=5\n",
    "while index>=1:\n",
    "    print(\"{0}, 커피가 준비되었습니다.{1}번 남았어요\".format(customer,index))\n",
    "    index -=1    #index 빼고 더하기\n",
    "    if index == 0:  \n",
    "        print(\"커피는 폐기처분 되었습니다.\")"
   ]
  },
  {
   "cell_type": "code",
   "execution_count": null,
   "metadata": {},
   "outputs": [],
   "source": [
    "customer =\"아이언맨\"\n",
    "index =1\n",
    "#while True:\n",
    "    #print(\"{0}, 커피가 준비 되었습니다. 호출{1}회\".format(customer,index)) #무한루프에 빠짐\n",
    "   # index +=1"
   ]
  },
  {
   "cell_type": "code",
   "execution_count": 4,
   "metadata": {},
   "outputs": [],
   "source": [
    "customer =\"토르\"\n",
    "person   = \"Unknown\""
   ]
  },
  {
   "cell_type": "code",
   "execution_count": 6,
   "metadata": {},
   "outputs": [
    {
     "name": "stdout",
     "output_type": "stream",
     "text": [
      "토르, 커피가 준비되었습니다.\n",
      "이름이 어떻게 되세요?아이언맨\n",
      "토르, 커피가 준비되었습니다.\n",
      "이름이 어떻게 되세요?조상원\n",
      "토르, 커피가 준비되었습니다.\n",
      "이름이 어떻게 되세요?토르\n"
     ]
    }
   ],
   "source": [
    "while person != customer :\n",
    "    print(\"{0}, 커피가 준비되었습니다.\".format(customer))\n",
    "    person = input(\"이름이 어떻게 되세요?\")"
   ]
  },
  {
   "cell_type": "markdown",
   "metadata": {},
   "source": [
    "# continue , break"
   ]
  },
  {
   "cell_type": "code",
   "execution_count": 11,
   "metadata": {},
   "outputs": [
    {
     "name": "stdout",
     "output_type": "stream",
     "text": [
      "1, 책읽어\n",
      "3, 책읽어\n",
      "4, 책읽어\n",
      "6, 책읽어\n",
      "오늘 수업 여기까지.{0}는 교무실로 따라와.format(student)\n"
     ]
    }
   ],
   "source": [
    "absent= [2,5] #결석\n",
    "no_book =[7] # 책을 깜빡함\n",
    "for student in range(1,11):\n",
    "    if student in absent:\n",
    "        continue\n",
    "    elif student in no_book:\n",
    "        print(\"오늘 수업 여기까지.{0}는 교무실로 따라와.format(student)\")\n",
    "        break\n",
    "    print(\"{0}, 책읽어\".format(student))    "
   ]
  },
  {
   "cell_type": "code",
   "execution_count": 12,
   "metadata": {
    "scrolled": true
   },
   "outputs": [
    {
     "name": "stdout",
     "output_type": "stream",
     "text": [
      "<class 'list'>\n"
     ]
    }
   ],
   "source": [
    "print(type(no_book))"
   ]
  },
  {
   "cell_type": "markdown",
   "metadata": {},
   "source": [
    "# 한 줄 for문"
   ]
  },
  {
   "cell_type": "code",
   "execution_count": 15,
   "metadata": {},
   "outputs": [
    {
     "name": "stdout",
     "output_type": "stream",
     "text": [
      "[101, 102, 103, 104, 105]\n"
     ]
    }
   ],
   "source": [
    "students = [1,2,3,4,5]\n",
    "students = [i+100 for i in students]\n",
    "print(students)"
   ]
  },
  {
   "cell_type": "code",
   "execution_count": 17,
   "metadata": {},
   "outputs": [
    {
     "name": "stdout",
     "output_type": "stream",
     "text": [
      "[8, 4, 10]\n"
     ]
    }
   ],
   "source": [
    "students =[\"Iron man\", \"Thor\", \"I am groot\"]\n",
    "students = [len(i) for i in students] # students 리스트의 i 인덱스를 하나씩 넣어서 student 리스트 변형\n",
    "print(students)"
   ]
  },
  {
   "cell_type": "code",
   "execution_count": 21,
   "metadata": {},
   "outputs": [
    {
     "name": "stdout",
     "output_type": "stream",
     "text": [
      "['IRON MAN', 'THOR', 'I AM GROOT']\n"
     ]
    }
   ],
   "source": [
    "#학생 이름을 대문자로. 변환\n",
    "students =[\"Iron man\", \"Thor\", \"I am groot\"]\n",
    "students = [i.upper() for i in students] \n",
    "print(students)"
   ]
  },
  {
   "cell_type": "markdown",
   "metadata": {},
   "source": [
    "# 퀴즈\n",
    "##### 50명의 승객 매칭기회가 있을 때, 탑승승객수 구하기\n",
    "##### 조건1: 5~50분 난수로 정해진다.\n",
    "##### 조건2: 소요시간 5분 ~ 15분 승객 매칭"
   ]
  },
  {
   "cell_type": "code",
   "execution_count": 22,
   "metadata": {},
   "outputs": [],
   "source": [
    "from random import *\n"
   ]
  },
  {
   "cell_type": "code",
   "execution_count": 11,
   "metadata": {},
   "outputs": [
    {
     "name": "stdout",
     "output_type": "stream",
     "text": [
      "[1, 2, 3, 4, 5, 6, 7, 8, 9, 10, 11, 12, 13, 14, 15, 16, 17, 18, 19, 20, 21, 22, 23, 24, 25, 26, 27, 28, 29, 30, 31, 32, 33, 34, 35, 36, 37, 38, 39, 40, 41, 42, 43, 44, 45, 46, 47, 48, 49, 50]\n"
     ]
    }
   ],
   "source": [
    "customer =range(1,51)\n",
    "customer = list(customer)\n",
    "print(customer)"
   ]
  },
  {
   "cell_type": "code",
   "execution_count": 43,
   "metadata": {},
   "outputs": [
    {
     "name": "stdout",
     "output_type": "stream",
     "text": [
      "33\n"
     ]
    }
   ],
   "source": [
    "match_time = randrange(5,51)\n",
    "print(match_time)"
   ]
  },
  {
   "cell_type": "code",
   "execution_count": 14,
   "metadata": {},
   "outputs": [
    {
     "name": "stdout",
     "output_type": "stream",
     "text": [
      "9\n",
      "8\n"
     ]
    }
   ],
   "source": [
    "time = randint(5,15)\n",
    "print(time)\n",
    "total = [i* randint(5,15) for i in customer]\n",
    "print(total[0])"
   ]
  },
  {
   "cell_type": "code",
   "execution_count": 36,
   "metadata": {},
   "outputs": [
    {
     "name": "stdout",
     "output_type": "stream",
     "text": [
      "15\n",
      "탑승총시간 25입니다\n",
      "2명의 고객이 탑승하였습니다.\n",
      "남은시간은 16입니다.\n",
      "3명의 고객이 탑승하였습니다.\n",
      "남은시간은 5입니다.\n",
      "탑승시간 초과\n",
      "이용탑승고객은 4명입니다.\n"
     ]
    }
   ],
   "source": [
    "customer =range(1,51)\n",
    "customer = list(customer)\n",
    "\n",
    "time = randint(5,15)\n",
    "print(time)\n",
    "total = [randint(5,15) for i in customer] \n",
    "total2=0\n",
    "match_time = randrange(5,51)\n",
    "print(\"탑승총시간 {0}입니다\".format(match_time))\n",
    "for i in customer :\n",
    "    total2 += total[i]\n",
    "    if total2 > match_time:\n",
    "        print(\"탑승시간 초과\")\n",
    "        print(\"이용탑승고객은 {0}명입니다.\".format(customer[i]))\n",
    "        break\n",
    "    elif total2 < match_time:\n",
    "        print(\"{0}명의 고객이 탑승하였습니다.\".format(customer[i]))\n",
    "        print(\"남은시간은 {0}입니다.\".format(match_time-total2))\n",
    "        continue\n",
    "        "
   ]
  },
  {
   "cell_type": "code",
   "execution_count": 40,
   "metadata": {},
   "outputs": [
    {
     "name": "stdout",
     "output_type": "stream",
     "text": [
      "[0] 1번째 손님(소요시간:10분)\n",
      "[ ] 2번째 손님(소요시간:25분)\n",
      "[ ] 3번째 손님(소요시간:27분)\n",
      "[ ] 4번째 손님(소요시간:47분)\n",
      "[ ] 5번째 손님(소요시간:43분)\n",
      "[ ] 6번째 손님(소요시간:19분)\n",
      "[0] 7번째 손님(소요시간:10분)\n",
      "[ ] 8번째 손님(소요시간:17분)\n",
      "[ ] 9번째 손님(소요시간:22분)\n",
      "[0] 10번째 손님(소요시간:5분)\n",
      "[ ] 11번째 손님(소요시간:30분)\n",
      "[ ] 12번째 손님(소요시간:26분)\n",
      "[ ] 13번째 손님(소요시간:30분)\n",
      "[0] 14번째 손님(소요시간:5분)\n",
      "[ ] 15번째 손님(소요시간:50분)\n",
      "[ ] 16번째 손님(소요시간:24분)\n",
      "[ ] 17번째 손님(소요시간:16분)\n",
      "[ ] 18번째 손님(소요시간:27분)\n",
      "[ ] 19번째 손님(소요시간:35분)\n",
      "[0] 20번째 손님(소요시간:14분)\n",
      "[ ] 21번째 손님(소요시간:48분)\n",
      "[ ] 22번째 손님(소요시간:29분)\n",
      "[0] 23번째 손님(소요시간:14분)\n",
      "[ ] 24번째 손님(소요시간:21분)\n",
      "[ ] 25번째 손님(소요시간:23분)\n",
      "[ ] 26번째 손님(소요시간:44분)\n",
      "[ ] 27번째 손님(소요시간:49분)\n",
      "[ ] 28번째 손님(소요시간:40분)\n",
      "[0] 29번째 손님(소요시간:12분)\n",
      "[ ] 30번째 손님(소요시간:46분)\n",
      "[ ] 31번째 손님(소요시간:46분)\n",
      "[ ] 32번째 손님(소요시간:37분)\n",
      "[0] 33번째 손님(소요시간:12분)\n",
      "[ ] 34번째 손님(소요시간:49분)\n",
      "[0] 35번째 손님(소요시간:8분)\n",
      "[ ] 36번째 손님(소요시간:31분)\n",
      "[ ] 37번째 손님(소요시간:25분)\n",
      "[0] 38번째 손님(소요시간:8분)\n",
      "[ ] 39번째 손님(소요시간:19분)\n",
      "[0] 40번째 손님(소요시간:10분)\n",
      "[ ] 41번째 손님(소요시간:40분)\n",
      "[ ] 42번째 손님(소요시간:25분)\n",
      "[0] 43번째 손님(소요시간:5분)\n",
      "[ ] 44번째 손님(소요시간:36분)\n",
      "[ ] 45번째 손님(소요시간:21분)\n",
      "[0] 46번째 손님(소요시간:7분)\n",
      "[ ] 47번째 손님(소요시간:26분)\n",
      "[ ] 48번째 손님(소요시간:26분)\n",
      "[ ] 49번째 손님(소요시간:34분)\n",
      "[0] 50번째 손님(소요시간:11분)\n",
      "총 탑승승객:14\n"
     ]
    }
   ],
   "source": [
    "#강사가 해결 방법\n",
    "from random import *\n",
    "cnt=0 #총 고객수\n",
    "for i in range(1,51) :\n",
    "    time = randrange(5,51)\n",
    "    if 5<= time <= 15:\n",
    "        print(\"[0] {0}번째 손님(소요시간:{1}분)\".format(i,time))\n",
    "        cnt+=1\n",
    "    else: \n",
    "        print(\"[ ] {0}번째 손님(소요시간:{1}분)\".format(i,time))\n",
    "print(\"총 탑승승객:{0}\".format(cnt))        "
   ]
  },
  {
   "cell_type": "markdown",
   "metadata": {},
   "source": [
    "# 함수"
   ]
  },
  {
   "cell_type": "code",
   "execution_count": 41,
   "metadata": {},
   "outputs": [],
   "source": [
    "def open_account(): # 함수 정의 , 함수 정의만\n",
    "    print(\"새로운 계좌가 생성되었습니다.\")"
   ]
  },
  {
   "cell_type": "code",
   "execution_count": 42,
   "metadata": {},
   "outputs": [
    {
     "name": "stdout",
     "output_type": "stream",
     "text": [
      "새로운 계좌가 생성되었습니다.\n"
     ]
    }
   ],
   "source": [
    "open_account() # 함수 호출"
   ]
  },
  {
   "cell_type": "markdown",
   "metadata": {},
   "source": [
    "# 전달값과 반환값"
   ]
  },
  {
   "cell_type": "code",
   "execution_count": 43,
   "metadata": {},
   "outputs": [],
   "source": [
    "def deposit(balance, money):\n",
    "    print(\"입금이 완료되었습니다. 잔액은 {0}원입니다.\".format(balance+money))\n",
    "    return balance+money"
   ]
  },
  {
   "cell_type": "code",
   "execution_count": 69,
   "metadata": {},
   "outputs": [
    {
     "name": "stdout",
     "output_type": "stream",
     "text": [
      "입금이 완료되었습니다. 잔액은 1000원입니다.\n",
      "1000\n"
     ]
    }
   ],
   "source": [
    "balance=0\n",
    "balance= deposit(balance, 1000)\n",
    "print(balance)"
   ]
  },
  {
   "cell_type": "code",
   "execution_count": 49,
   "metadata": {},
   "outputs": [],
   "source": [
    "def withdraw(balance,money): # 출금\n",
    "    if balance >= money: #잔액이 출금보다 많으면\n",
    "        print(\"출금이 완료되었습니다. 잔액은{0}원입니다.\".format(balance -money))\n",
    "        return balance - money\n",
    "    else:\n",
    "        print(\"잔액이 부족합니다. 출금되지 않았습니다. 잔액은{} 입니다.\".format(balance))\n",
    "        return balance\n",
    "        "
   ]
  },
  {
   "cell_type": "code",
   "execution_count": 47,
   "metadata": {},
   "outputs": [
    {
     "name": "stdout",
     "output_type": "stream",
     "text": [
      "잔액이 부족합니다. 출금되지 않았습니다. 잔액은1000 입니다.\n"
     ]
    }
   ],
   "source": [
    "balance =withdraw(balance,2000)"
   ]
  },
  {
   "cell_type": "code",
   "execution_count": 50,
   "metadata": {},
   "outputs": [
    {
     "name": "stdout",
     "output_type": "stream",
     "text": [
      "출금이 완료되었습니다. 잔액은0원입니다.\n"
     ]
    }
   ],
   "source": [
    "balance =withdraw(balance,500)"
   ]
  },
  {
   "cell_type": "code",
   "execution_count": 54,
   "metadata": {},
   "outputs": [],
   "source": [
    "def withdraw_night(balance,money):\n",
    "    commission=100\n",
    "    return commission, balance -money -commission   #튜플 형식으로 반환"
   ]
  },
  {
   "cell_type": "code",
   "execution_count": 71,
   "metadata": {},
   "outputs": [
    {
     "name": "stdout",
     "output_type": "stream",
     "text": [
      "0\n"
     ]
    }
   ],
   "source": [
    "balance = 0\n",
    "print(balance)"
   ]
  },
  {
   "cell_type": "code",
   "execution_count": 72,
   "metadata": {},
   "outputs": [
    {
     "name": "stdout",
     "output_type": "stream",
     "text": [
      "입금이 완료되었습니다. 잔액은 1000원입니다.\n",
      "400\n",
      "수수료 100원이며, 잔액은 400원입니다.\n"
     ]
    }
   ],
   "source": [
    "balance=deposit(balance,1000)\n",
    "print(balance-500-commission)\n",
    "commission, balance = withdraw_night(balance,500)\n",
    "print(\"수수료 {0}원이며, 잔액은 {1}원입니다.\".format(commission,balance))"
   ]
  },
  {
   "cell_type": "markdown",
   "metadata": {},
   "source": [
    "# 함수의 기본값\n"
   ]
  },
  {
   "cell_type": "code",
   "execution_count": 75,
   "metadata": {},
   "outputs": [],
   "source": [
    "def profile(name,age=17,main_lang=\"파이썬\"):\n",
    "    print(\"이름: {0}\\t나이: {1}\\t주 사용 언어: {2}\".format(name,age,main_lang))\n",
    "          "
   ]
  },
  {
   "cell_type": "code",
   "execution_count": 77,
   "metadata": {},
   "outputs": [
    {
     "name": "stdout",
     "output_type": "stream",
     "text": [
      "이름: 유재석\t나이: 17\t주 사용 언어: 파이썬\n",
      "이름: 김태호\t나이: 17\t주 사용 언어: 파이썬\n"
     ]
    }
   ],
   "source": [
    "profile(\"유재석\")\n",
    "profile(\"김태호\")"
   ]
  },
  {
   "cell_type": "markdown",
   "metadata": {},
   "source": [
    "# 키워드 값"
   ]
  },
  {
   "cell_type": "code",
   "execution_count": 1,
   "metadata": {},
   "outputs": [],
   "source": [
    "def profile(name,age,main_lang):\n",
    "    print(name,age,main_lang)"
   ]
  },
  {
   "cell_type": "code",
   "execution_count": 2,
   "metadata": {},
   "outputs": [
    {
     "name": "stdout",
     "output_type": "stream",
     "text": [
      "유재석 20 파이썬\n",
      "김태호 20 자바\n"
     ]
    }
   ],
   "source": [
    "profile(name=\"유재석\",main_lang=\"파이썬\",age=20) # 키워드를 이용한다면 값이 매개변수 값의 순서가 바뀌어도 상관없다\n",
    "profile(main_lang=\"자바\",age=20,name=\"김태호\") "
   ]
  },
  {
   "cell_type": "markdown",
   "metadata": {},
   "source": [
    "# 다변인자"
   ]
  },
  {
   "cell_type": "code",
   "execution_count": 3,
   "metadata": {},
   "outputs": [],
   "source": [
    "def profile(name,age,lang1,lang2,lang3,lang4,lang5):\n",
    "    print(\"이름: {0}\\t나이: {1}\".format(name,age),end=\" \") # end= \" \" 사용 하면 줄바꿈을 하지 않는다."
   ]
  },
  {
   "cell_type": "code",
   "execution_count": 5,
   "metadata": {},
   "outputs": [
    {
     "name": "stdout",
     "output_type": "stream",
     "text": [
      "이름: 유재석\t나이: 20 이름: 김태호\t나이: 20 "
     ]
    }
   ],
   "source": [
    "profile(\"유재석\",20,\"Python\",\"Java\",\"C\",\"C++\",\"C#\")\n",
    "profile(\"김태호\",20,\"Kotlin\",\"Swift\",\" \",\" \",\" \") \n",
    "\n",
    "#위 문장처럼 없어도 써 줘야하는 불편함이 있음.\n"
   ]
  },
  {
   "cell_type": "code",
   "execution_count": null,
   "metadata": {},
   "outputs": [],
   "source": [
    "def profile(name,age, *language):\n",
    "    print(\"이름: {0}\\t나이: {1}\".format(name,age),end=\" \") # end= \" \" 사용 하면 줄바꿈을 하지 않는다.\n",
    "    for lang in language:\n",
    "        print(lang,end=\" \")\n",
    "    print()\n",
    "     ##### 2:45:00 참고"
   ]
  },
  {
   "cell_type": "code",
   "execution_count": null,
   "metadata": {},
   "outputs": [],
   "source": []
  },
  {
   "cell_type": "markdown",
   "metadata": {},
   "source": [
    "# 지역변수, 전역변수"
   ]
  },
  {
   "cell_type": "code",
   "execution_count": null,
   "metadata": {},
   "outputs": [],
   "source": [
    "#지역변수: 함수내에서만\n",
    "gun=10\n",
    "def checkpoint(soliders):\n",
    "    gun- gun -soliders\n",
    "    print(\"[함수 내] 남은 총: {0}\".format(gun) )"
   ]
  },
  {
   "cell_type": "code",
   "execution_count": 6,
   "metadata": {},
   "outputs": [
    {
     "name": "stdout",
     "output_type": "stream",
     "text": [
      "전체 총: 10\n",
      "[함수 내] 남은 총: 20\n"
     ]
    }
   ],
   "source": [
    "#지역변수: 함수내에서만\n",
    "gun=10\n",
    "def checkpoint(soliders):\n",
    "    gun=20\n",
    "    gun- gun -soliders\n",
    "    print(\"[함수 내] 남은 총: {0}\".format(gun) )\n",
    "\n",
    "print(\"전체 총: {0}\".format(gun))\n",
    "checkpoint(2) #2명이 경계 근무 나감\n"
   ]
  },
  {
   "cell_type": "code",
   "execution_count": 8,
   "metadata": {},
   "outputs": [
    {
     "name": "stdout",
     "output_type": "stream",
     "text": [
      "전체 총: 10\n",
      "[함수 내] 남은 총: 10\n"
     ]
    }
   ],
   "source": [
    "#지역변수: 함수내에서만\n",
    "gun=10\n",
    "def checkpoint(soliders):\n",
    "    global gun  #전역변수 gun 사용\n",
    "    gun- gun -soliders\n",
    "    print(\"[함수 내] 남은 총: {0}\".format(gun) )\n",
    "\n",
    "print(\"전체 총: {0}\".format(gun))\n",
    "checkpoint(2) #2명이 경계 근무 나감\n"
   ]
  },
  {
   "cell_type": "markdown",
   "metadata": {},
   "source": [
    "# 퀴즈 "
   ]
  },
  {
   "cell_type": "code",
   "execution_count": 10,
   "metadata": {},
   "outputs": [],
   "source": [
    "weight= 0\n",
    "def std_weight (height,gender):\n",
    "    global weight\n",
    "    if gender == \"남자\":\n",
    "        weight=(height/100*height/100)*22\n",
    "        print(\"키 {0}cm {1}의 표준 체중은 {2}입니다.\".format(height,gender,round(weight,2)))\n",
    "    elif gender == \"여자\":\n",
    "        weight=(height/100*height/100)*21\n",
    "        print(\"키 {0}cm {1}의 표준 체중은 {2}입니다.\".format(height,gender,round(weight,2)))\n",
    "    else: Print(\"성별을 다시 입력하세요.\")\n",
    "        "
   ]
  },
  {
   "cell_type": "code",
   "execution_count": 13,
   "metadata": {},
   "outputs": [
    {
     "name": "stdout",
     "output_type": "stream",
     "text": [
      "키 170 남자의 표준 체중은 63.58입니다.\n"
     ]
    }
   ],
   "source": [
    "std_weight(170,\"남자\")"
   ]
  },
  {
   "cell_type": "markdown",
   "metadata": {},
   "source": [
    "# 표준입출력\n"
   ]
  },
  {
   "cell_type": "code",
   "execution_count": 17,
   "metadata": {},
   "outputs": [
    {
     "name": "stdout",
     "output_type": "stream",
     "text": [
      "Python VS Java\n"
     ]
    }
   ],
   "source": [
    "print(\"Python\",\"Java\",sep=\" VS \")"
   ]
  },
  {
   "cell_type": "code",
   "execution_count": 18,
   "metadata": {},
   "outputs": [
    {
     "name": "stdout",
     "output_type": "stream",
     "text": [
      "Python , Java?"
     ]
    }
   ],
   "source": [
    "print(\"Python\",\"Java\",sep=\" , \",end=\"?\") #문자의 끝부분에 물음표를 달아달라. "
   ]
  },
  {
   "cell_type": "code",
   "execution_count": null,
   "metadata": {},
   "outputs": [],
   "source": []
  }
 ],
 "metadata": {
  "kernelspec": {
   "display_name": "Python 3",
   "language": "python",
   "name": "python3"
  },
  "language_info": {
   "codemirror_mode": {
    "name": "ipython",
    "version": 3
   },
   "file_extension": ".py",
   "mimetype": "text/x-python",
   "name": "python",
   "nbconvert_exporter": "python",
   "pygments_lexer": "ipython3",
   "version": "3.7.4"
  }
 },
 "nbformat": 4,
 "nbformat_minor": 2
}
