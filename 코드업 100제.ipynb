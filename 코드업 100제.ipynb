{
 "cells": [
  {
   "cell_type": "code",
   "execution_count": 6,
   "metadata": {},
   "outputs": [
    {
     "name": "stdout",
     "output_type": "stream",
     "text": [
      "-10\n",
      "정수를 다시입력하세요\n",
      "10\n",
      "D\n"
     ]
    }
   ],
   "source": [
    "#68\n",
    "a= input()\n",
    "a= int(a)\n",
    "if a < 0 or a >100:\n",
    "    print(\"정수를 다시입력하세요\")\n",
    "    a= input()\n",
    "    a= int(a)\n",
    "if a>= 90 and a<=100:\n",
    "    print(\"A\")\n",
    "elif a>=70 and a<=89:\n",
    "    print(\"B\")    \n",
    "elif a>=40 and a<=69:\n",
    "    print(\"C\")    \n",
    "else:\n",
    "    print(\"D\")        "
   ]
  },
  {
   "cell_type": "code",
   "execution_count": 14,
   "metadata": {},
   "outputs": [
    {
     "name": "stdout",
     "output_type": "stream",
     "text": [
      "F\n",
      "what?\n"
     ]
    }
   ],
   "source": [
    "#69\n",
    "a=input()\n",
    "if  a==\"A\":\n",
    "    print(\"best!!!\")\n",
    "elif a==\"B\":\n",
    "    print(\"good!!\")\n",
    "elif a==\"C\":\n",
    "    print(\"run!\")\n",
    "elif a==\"D\":\n",
    "    print(\"slowly~\")\n",
    "else:\n",
    "    print(\"what?\")"
   ]
  },
  {
   "cell_type": "code",
   "execution_count": 21,
   "metadata": {},
   "outputs": [
    {
     "name": "stdout",
     "output_type": "stream",
     "text": [
      "11\n",
      "fall\n"
     ]
    }
   ],
   "source": [
    "#70\n",
    "a=input()\n",
    "if  (a==\"12\") or (a==\"1\") or (a==\"2\"):\n",
    "    print(\"winter\")\n",
    "elif (a==\"3\") or (a==\"4\") or (a==\"5\"):\n",
    "    print(\"spring\")\n",
    "elif(a==\"6\") or (a==\"7\") or (a==\"8\"):\n",
    "    print(\"summer\")\n",
    "elif(a==\"9\") or (a==\"10\") or (a==\"11\"):\n",
    "    print(\"fall\")\n",
    "\n",
    "    \n",
    "    "
   ]
  },
  {
   "cell_type": "code",
   "execution_count": 2,
   "metadata": {},
   "outputs": [
    {
     "name": "stdout",
     "output_type": "stream",
     "text": [
      "1\n",
      "1\n",
      "1\n",
      "6\n",
      "0\n"
     ]
    }
   ],
   "source": [
    "## 71\n",
    "def UntilZero(a):\n",
    "    a=int(a)\n",
    "    if a==0:\n",
    "        return\n",
    "    else:\n",
    "        a=input()\n",
    "        a= int(a)\n",
    "        UntilZero(a)\n",
    "a=input()        \n",
    "UntilZero(a)\n",
    "        \n",
    "        \n",
    "        "
   ]
  },
  {
   "cell_type": "code",
   "execution_count": 25,
   "metadata": {},
   "outputs": [
    {
     "name": "stdout",
     "output_type": "stream",
     "text": [
      "7 4 2 3 0 1 5 6 9 10 8\n",
      "['7', '4', '2', '3', '0', '1', '5', '6', '9', '10', '8']\n",
      "[7, 4, 2, 3, 0, 1, 5, 6, 9, 10, 8]\n"
     ]
    }
   ],
   "source": [
    "#리스트 문자열을 정수형으 바꾸는 법 \n",
    "a=input().split()   \n",
    "print(a)\n",
    "a=[int(i) for i in a]\n",
    "print(a)"
   ]
  },
  {
   "cell_type": "code",
   "execution_count": 22,
   "metadata": {},
   "outputs": [
    {
     "name": "stdout",
     "output_type": "stream",
     "text": [
      "0 0 0 0\n",
      "['0', '0', '0', '0']\n",
      "[0, 0, 0, 0]\n"
     ]
    }
   ],
   "source": [
    "#리스트 문자열을 정수형으 바꾸는 법 \n",
    "a=input().split()\n",
    "print(a)\n",
    "a=list(map(int,a))\n",
    "print(a)\n"
   ]
  },
  {
   "cell_type": "code",
   "execution_count": 34,
   "metadata": {
    "scrolled": false
   },
   "outputs": [
    {
     "name": "stdout",
     "output_type": "stream",
     "text": [
      "1 2 3 4 5 \n",
      "1\n",
      "2\n",
      "3\n",
      "4\n",
      "5\n"
     ]
    }
   ],
   "source": [
    "a=input().split()\n",
    "a=list( map(int,a))\n",
    "\n",
    "for i in a:\n",
    "    print(i)\n",
    "    i+=i+1"
   ]
  },
  {
   "cell_type": "code",
   "execution_count": 35,
   "metadata": {},
   "outputs": [
    {
     "name": "stdout",
     "output_type": "stream",
     "text": [
      "7 4 2 3 0 1 5 6 9 10 8\n",
      "7\n",
      "4\n",
      "2\n",
      "3\n"
     ]
    }
   ],
   "source": [
    "#73\n",
    "a=input().split()\n",
    "a=list( map(int,a))\n",
    "\n",
    "for i in a:\n",
    "    if i == 0:\n",
    "        break\n",
    "    else:\n",
    "        print(i)\n",
    "        i+=i+1\n"
   ]
  },
  {
   "cell_type": "code",
   "execution_count": 8,
   "metadata": {},
   "outputs": [
    {
     "name": "stdout",
     "output_type": "stream",
     "text": [
      "1\n",
      "1\n"
     ]
    }
   ],
   "source": [
    "#74\n",
    "a=input()\n",
    "a= int(a)\n",
    "\n",
    "while True:\n",
    "    if a<=1:\n",
    "        print(a)\n",
    "        break\n",
    "    print(a)\n",
    "    a=a-1\n",
    "      \n",
    "    \n",
    "        \n",
    "    "
   ]
  },
  {
   "cell_type": "code",
   "execution_count": 15,
   "metadata": {},
   "outputs": [
    {
     "name": "stdout",
     "output_type": "stream",
     "text": [
      "5\n",
      "4\n",
      "3\n",
      "2\n",
      "1\n",
      "0\n"
     ]
    }
   ],
   "source": [
    "#75\n",
    "a=input()\n",
    "a= int(a)\n",
    "if a>100:\n",
    "    print(\"숫자는 0부터 1까지\")\n",
    "else:\n",
    "    while a <= 100:\n",
    "        if a <= 0:\n",
    "            break\n",
    "        a=a-1\n",
    "        print(a)\n",
    "        \n",
    "        \n",
    "    \n"
   ]
  },
  {
   "cell_type": "code",
   "execution_count": 30,
   "metadata": {},
   "outputs": [
    {
     "name": "stdout",
     "output_type": "stream",
     "text": [
      "@\n"
     ]
    },
    {
     "data": {
      "text/plain": [
       "int"
      ]
     },
     "execution_count": 30,
     "metadata": {},
     "output_type": "execute_result"
    }
   ],
   "source": [
    "#영문자(a ~ z) 1개가 입력되었을 때 그 문자까지의 알파벳을 순서대로 출력해보자.\n",
    "# a=chr(64)\n",
    "# print(a)\n",
    "# b=ord(\"C\")\n"
   ]
  },
  {
   "cell_type": "code",
   "execution_count": 22,
   "metadata": {},
   "outputs": [
    {
     "name": "stdout",
     "output_type": "stream",
     "text": [
      "f\n",
      "a\n",
      "b\n",
      "c\n",
      "d\n",
      "e\n",
      "f\n"
     ]
    }
   ],
   "source": [
    "###76 영문자(a ~ z) 1개가 입력되었을 때 그 문자까지의 알파벳을 순서대로 출력해보자.\n",
    "# a=input().split()\n",
    "# a= [ord(i) for i in a]\n",
    "# print(a) \n",
    "# # alphabet a~z : 97~ 122\n",
    "\n",
    "a=ord(\"a\")\n",
    "a= int(a)\n",
    "x=ord(input())\n",
    "x= int(x) +1\n",
    "for a in range(a,x):\n",
    "    #if x==z:\n",
    "    print(chr(a))\n",
    "    a+=1\n",
    "    "
   ]
  },
  {
   "cell_type": "code",
   "execution_count": 26,
   "metadata": {},
   "outputs": [
    {
     "name": "stdout",
     "output_type": "stream",
     "text": [
      "4\n",
      "0\n",
      "1\n",
      "2\n",
      "3\n",
      "4\n"
     ]
    }
   ],
   "source": [
    "#77\n",
    "a= input()\n",
    "a= int(a)+1\n",
    "for i in range(a):\n",
    "    print(i)\n",
    "    i+=1\n",
    "\n"
   ]
  },
  {
   "cell_type": "code",
   "execution_count": 48,
   "metadata": {},
   "outputs": [
    {
     "name": "stdout",
     "output_type": "stream",
     "text": [
      "3\n",
      "2\n"
     ]
    }
   ],
   "source": [
    "#78\n",
    "a= int(input())\n",
    "i=0\n",
    "sum=0\n",
    "if a<0 or a>100:\n",
    "    a= int(input())\n",
    "while i<=a:\n",
    "    if i%2==0:\n",
    "        sum=sum+i\n",
    "        i+=1\n",
    "    else:\n",
    "        i+=1\n",
    "print(sum)\n",
    "\n",
    "        \n",
    "        \n",
    "        "
   ]
  },
  {
   "cell_type": "code",
   "execution_count": null,
   "metadata": {},
   "outputs": [
    {
     "name": "stdout",
     "output_type": "stream",
     "text": [
      "x b k d l q g a c\n",
      "x b k d l q g a c\n",
      "x b k d l q g a c\n",
      "x b k d l q g a c\n"
     ]
    }
   ],
   "source": [
    "def wantq (a=input()):\n",
    "    if a==\"q\":\n",
    "        return\n",
    "    else:\n",
    "        print(a)\n",
    "        a= input()\n",
    "        wantq(a)\n",
    "wantq()            "
   ]
  },
  {
   "cell_type": "code",
   "execution_count": 9,
   "metadata": {},
   "outputs": [
    {
     "name": "stdout",
     "output_type": "stream",
     "text": [
      "x b k d l q g a c\n",
      "x\n",
      "b\n",
      "k\n",
      "d\n",
      "l\n",
      "q\n"
     ]
    }
   ],
   "source": [
    "#79. 'q'가 입력될 때까지 입력한 문자를 계속 출력하는 프로그램을 작성해보자.\n",
    "a= input().split()\n",
    "a= list(a)\n",
    "for i in a:\n",
    "    if i==\"q\":\n",
    "        print(i)\n",
    "        break\n",
    "    else:\n",
    "        print(i)"
   ]
  },
  {
   "cell_type": "code",
   "execution_count": 3,
   "metadata": {},
   "outputs": [
    {
     "name": "stdout",
     "output_type": "stream",
     "text": [
      "x b k d l q g a c\n"
     ]
    }
   ],
   "source": [
    "a= input()\n",
    "x b k d l q g a c"
   ]
  },
  {
   "cell_type": "code",
   "execution_count": null,
   "metadata": {},
   "outputs": [],
   "source": [
    "# 1, 2, 3 ... 을 계속 더해 나갈 때,\n",
    "# 그 합이 입력한 정수(0 ~ 1000)보다 같거나 작을 때까지\n",
    "# 계속 더하는 프로그램을 작성해보자.\n",
    "\n",
    "# 즉, 1부터 n까지 정수를 계속 더한다고 할 때,\n",
    "# 어디까지 더해야 입력한 수보다 같거나 커지는지 알아보고자 하는 문제이다.\n",
    "\n",
    "\n"
   ]
  },
  {
   "cell_type": "code",
   "execution_count": 25,
   "metadata": {},
   "outputs": [
    {
     "name": "stdout",
     "output_type": "stream",
     "text": [
      "10\n",
      "1\n",
      "n:1, sum:1\n",
      "3\n",
      "n:2, sum:3\n",
      "6\n",
      "n:3, sum:6\n",
      "10\n",
      "n:4, sum:10\n",
      "5\n"
     ]
    }
   ],
   "source": [
    "n=1\n",
    "sum=0\n",
    "a=int(input())\n",
    "while sum+n <= a:\n",
    "    print(sum+n)\n",
    "    sum=sum+n\n",
    "    print(\"n:{0}, sum:{1}\".format(n,sum))\n",
    "    n+=1\n",
    "    \n",
    "    \n",
    "print(n)\n"
   ]
  },
  {
   "cell_type": "code",
   "execution_count": 35,
   "metadata": {},
   "outputs": [
    {
     "name": "stdout",
     "output_type": "stream",
     "text": [
      "10\n",
      "n:1, sum:1\n",
      "n:2, sum:3\n",
      "n:3, sum:6\n",
      "n:4, sum:10\n",
      "4\n"
     ]
    }
   ],
   "source": [
    "#1080\n",
    "n=0\n",
    "sum=0\n",
    "a=int(input())\n",
    "while sum < a:\n",
    "    n+=1\n",
    "    sum=sum+n\n",
    "    print(\"n:{0}, sum:{1}\".format(n,sum))\n",
    "print(n)\n",
    "\n"
   ]
  },
  {
   "cell_type": "code",
   "execution_count": 36,
   "metadata": {},
   "outputs": [
    {
     "name": "stdout",
     "output_type": "stream",
     "text": [
      "10\n",
      "n:1, sum:0\n",
      "n:2, sum:1\n",
      "n:3, sum:3\n",
      "n:4, sum:6\n",
      "n:5, sum:10\n",
      "5\n"
     ]
    }
   ],
   "source": [
    "n=0\n",
    "sum=0\n",
    "a=int(input())\n",
    "while sum < a:\n",
    "   sum=sum+n\n",
    "   n+=1\n",
    "    \n",
    "   print(\"n:{0}, sum:{1}\".format(n,sum))\n",
    "print(n)\n"
   ]
  },
  {
   "cell_type": "code",
   "execution_count": 44,
   "metadata": {},
   "outputs": [
    {
     "name": "stdout",
     "output_type": "stream",
     "text": [
      "2 3\n",
      "1 1\n",
      "1 2\n",
      "1 3\n",
      "2 1\n",
      "2 2\n",
      "2 3\n"
     ]
    }
   ],
   "source": [
    "#1081\n",
    "# 1부터 n까지, 1부터 m까지 숫자가 적힌\n",
    "# 서로 다른 주사위 2개를 던졌을 때 나올 수 있는 모든 경우를 출력해보자.\n",
    "n,m=input().split()\n",
    "n= int(n)+1\n",
    "m= int(m)+1\n",
    "for i in range(1,n):\n",
    "    for j in range(1,m):\n",
    "        print(i,j)"
   ]
  },
  {
   "cell_type": "code",
   "execution_count": 40,
   "metadata": {},
   "outputs": [
    {
     "name": "stdout",
     "output_type": "stream",
     "text": [
      "1\n",
      "2\n"
     ]
    },
    {
     "ename": "TypeError",
     "evalue": "'int' object is not iterable",
     "output_type": "error",
     "traceback": [
      "\u001b[1;31m---------------------------------------------------------------------------\u001b[0m",
      "\u001b[1;31mTypeError\u001b[0m                                 Traceback (most recent call last)",
      "\u001b[1;32m<ipython-input-40-a1a273d40b49>\u001b[0m in \u001b[0;36m<module>\u001b[1;34m\u001b[0m\n\u001b[0;32m      3\u001b[0m \u001b[0mm\u001b[0m\u001b[1;33m=\u001b[0m \u001b[0minput\u001b[0m\u001b[1;33m(\u001b[0m\u001b[1;33m)\u001b[0m\u001b[1;33m\u001b[0m\u001b[1;33m\u001b[0m\u001b[0m\n\u001b[0;32m      4\u001b[0m \u001b[0mm\u001b[0m\u001b[1;33m=\u001b[0m \u001b[0mint\u001b[0m\u001b[1;33m(\u001b[0m\u001b[0mm\u001b[0m\u001b[1;33m)\u001b[0m\u001b[1;33m\u001b[0m\u001b[1;33m\u001b[0m\u001b[0m\n\u001b[1;32m----> 5\u001b[1;33m \u001b[1;32mfor\u001b[0m \u001b[0mi\u001b[0m \u001b[1;32min\u001b[0m \u001b[0mn\u001b[0m\u001b[1;33m:\u001b[0m\u001b[1;33m\u001b[0m\u001b[1;33m\u001b[0m\u001b[0m\n\u001b[0m\u001b[0;32m      6\u001b[0m     \u001b[1;32mfor\u001b[0m \u001b[0mj\u001b[0m \u001b[1;32min\u001b[0m \u001b[0mm\u001b[0m\u001b[1;33m:\u001b[0m\u001b[1;33m\u001b[0m\u001b[1;33m\u001b[0m\u001b[0m\n\u001b[0;32m      7\u001b[0m         \u001b[0mprint\u001b[0m\u001b[1;33m(\u001b[0m\u001b[0mi\u001b[0m\u001b[1;33m,\u001b[0m\u001b[0mj\u001b[0m\u001b[1;33m)\u001b[0m\u001b[1;33m\u001b[0m\u001b[1;33m\u001b[0m\u001b[0m\n",
      "\u001b[1;31mTypeError\u001b[0m: 'int' object is not iterable"
     ]
    }
   ],
   "source": [
    "n=input()\n",
    "n= int(n)\n",
    "m= input()\n",
    "m= int(m)\n",
    "for i in n:\n",
    "    for j in m:\n",
    "        print(i,j)"
   ]
  },
  {
   "cell_type": "code",
   "execution_count": 58,
   "metadata": {},
   "outputs": [
    {
     "name": "stdout",
     "output_type": "stream",
     "text": [
      "9*1=9\n",
      "9*2=18\n",
      "9*3=27\n",
      "9*4=36\n",
      "9*5=45\n",
      "9*6=54\n",
      "9*7=63\n",
      "9*8=72\n",
      "9*9=81\n"
     ]
    }
   ],
   "source": [
    "for i in range(9,10):\n",
    "    for j in range(1,10):\n",
    "        print(\"{0}*{1}={2}\".format(i,j,i*j))\n",
    "        \n"
   ]
  },
  {
   "cell_type": "code",
   "execution_count": 94,
   "metadata": {
    "scrolled": true
   },
   "outputs": [
    {
     "name": "stdout",
     "output_type": "stream",
     "text": [
      "0xa0xa\n",
      "10\n"
     ]
    },
    {
     "ename": "ValueError",
     "evalue": "invalid literal for int() with base 10: '0x0'",
     "output_type": "error",
     "traceback": [
      "\u001b[1;31m---------------------------------------------------------------------------\u001b[0m",
      "\u001b[1;31mValueError\u001b[0m                                Traceback (most recent call last)",
      "\u001b[1;32m<ipython-input-94-2db98ef7f60d>\u001b[0m in \u001b[0;36m<module>\u001b[1;34m\u001b[0m\n\u001b[0;32m      5\u001b[0m \u001b[1;33m\u001b[0m\u001b[0m\n\u001b[0;32m      6\u001b[0m \u001b[0ma\u001b[0m\u001b[1;33m=\u001b[0m\u001b[1;33m[\u001b[0m \u001b[0mhex\u001b[0m\u001b[1;33m(\u001b[0m\u001b[0mi\u001b[0m\u001b[1;33m)\u001b[0m \u001b[1;32mfor\u001b[0m \u001b[0mi\u001b[0m \u001b[1;32min\u001b[0m \u001b[0mrange\u001b[0m\u001b[1;33m(\u001b[0m\u001b[1;36m17\u001b[0m\u001b[1;33m)\u001b[0m\u001b[1;33m]\u001b[0m\u001b[1;33m\u001b[0m\u001b[1;33m\u001b[0m\u001b[0m\n\u001b[1;32m----> 7\u001b[1;33m \u001b[0ma\u001b[0m\u001b[1;33m=\u001b[0m \u001b[1;33m[\u001b[0m \u001b[0mint\u001b[0m\u001b[1;33m(\u001b[0m\u001b[0mi\u001b[0m\u001b[1;33m)\u001b[0m \u001b[1;32mfor\u001b[0m \u001b[0mi\u001b[0m \u001b[1;32min\u001b[0m \u001b[0ma\u001b[0m\u001b[1;33m]\u001b[0m\u001b[1;33m\u001b[0m\u001b[1;33m\u001b[0m\u001b[0m\n\u001b[0m\u001b[0;32m      8\u001b[0m \u001b[1;33m\u001b[0m\u001b[0m\n",
      "\u001b[1;32m<ipython-input-94-2db98ef7f60d>\u001b[0m in \u001b[0;36m<listcomp>\u001b[1;34m(.0)\u001b[0m\n\u001b[0;32m      5\u001b[0m \u001b[1;33m\u001b[0m\u001b[0m\n\u001b[0;32m      6\u001b[0m \u001b[0ma\u001b[0m\u001b[1;33m=\u001b[0m\u001b[1;33m[\u001b[0m \u001b[0mhex\u001b[0m\u001b[1;33m(\u001b[0m\u001b[0mi\u001b[0m\u001b[1;33m)\u001b[0m \u001b[1;32mfor\u001b[0m \u001b[0mi\u001b[0m \u001b[1;32min\u001b[0m \u001b[0mrange\u001b[0m\u001b[1;33m(\u001b[0m\u001b[1;36m17\u001b[0m\u001b[1;33m)\u001b[0m\u001b[1;33m]\u001b[0m\u001b[1;33m\u001b[0m\u001b[1;33m\u001b[0m\u001b[0m\n\u001b[1;32m----> 7\u001b[1;33m \u001b[0ma\u001b[0m\u001b[1;33m=\u001b[0m \u001b[1;33m[\u001b[0m \u001b[0mint\u001b[0m\u001b[1;33m(\u001b[0m\u001b[0mi\u001b[0m\u001b[1;33m)\u001b[0m \u001b[1;32mfor\u001b[0m \u001b[0mi\u001b[0m \u001b[1;32min\u001b[0m \u001b[0ma\u001b[0m\u001b[1;33m]\u001b[0m\u001b[1;33m\u001b[0m\u001b[1;33m\u001b[0m\u001b[0m\n\u001b[0m\u001b[0;32m      8\u001b[0m \u001b[1;33m\u001b[0m\u001b[0m\n",
      "\u001b[1;31mValueError\u001b[0m: invalid literal for int() with base 10: '0x0'"
     ]
    }
   ],
   "source": [
    "## 16진수 변환하기\n",
    "print(hex(10))\n",
    "\n",
    "print(int('0xa',16))\n",
    "\n",
    "a=[ hex(i) for i in range(17)]\n",
    "a= [ int(i) for i in a]\n",
    "\n"
   ]
  },
  {
   "cell_type": "code",
   "execution_count": null,
   "metadata": {},
   "outputs": [],
   "source": [
    "16진수(0, 1, 2, 3, 4, 5, 6, 7, 8, 9, A, B, C, D, E, F)를 배운\n",
    "영일(01)이는 16진수끼리 곱하는 16진수 구구단?에 대해서 궁금해졌다.\n",
    "\n",
    "A, B, C, D, E, F 중 하나가 입력될 때, a=input()\n",
    "1부터 F까지 곱한 16진수 구구단의 내용을 출력해보자. # 16진수로 변환을 어떻게?\n",
    "(단, A ~ F 까지만 입력된다.)"
   ]
  },
  {
   "cell_type": "code",
   "execution_count": 120,
   "metadata": {},
   "outputs": [
    {
     "name": "stdout",
     "output_type": "stream",
     "text": [
      "A\n",
      "0xa*0x0=0x0\n",
      "0xa*0x1=0xa\n",
      "0xa*0x2=0x14\n",
      "0xa*0x3=0x1e\n",
      "0xa*0x4=0x28\n",
      "0xa*0x5=0x32\n",
      "0xa*0x6=0x3c\n",
      "0xa*0x7=0x46\n",
      "0xa*0x8=0x50\n",
      "0xa*0x9=0x5a\n",
      "0xa*0xa=0x64\n",
      "0xa*0xb=0x6e\n",
      "0xa*0xc=0x78\n",
      "0xa*0xd=0x82\n",
      "0xa*0xe=0x8c\n",
      "0xa*0xf=0x96\n"
     ]
    }
   ],
   "source": [
    "a= input()\n",
    "b= int(a,16)\n",
    "for i in range(16):\n",
    "    print(\"{0}*{1}={2}\".format(hex(b),hex(i),hex(b*i)) )\n",
    "    \n",
    "    \n",
    "\n"
   ]
  },
  {
   "cell_type": "code",
   "execution_count": 126,
   "metadata": {},
   "outputs": [
    {
     "name": "stdout",
     "output_type": "stream",
     "text": [
      "B\n",
      "B*1=B\n",
      "B*2=16\n",
      "B*3=21\n",
      "B*4=2C\n",
      "B*5=37\n",
      "B*6=42\n",
      "B*7=4D\n",
      "B*8=58\n",
      "B*9=63\n",
      "B*A=6E\n",
      "B*B=79\n",
      "B*C=84\n",
      "B*D=8F\n",
      "B*E=9A\n",
      "B*F=A5\n"
     ]
    }
   ],
   "source": [
    "#82\n",
    "a= input()\n",
    "b= int(a,16)\n",
    "for i in range(1,16):\n",
    "    print(\"%X*%X=%X\" %(b,i,b*i) ) \n",
    "    "
   ]
  },
  {
   "cell_type": "code",
   "execution_count": 130,
   "metadata": {},
   "outputs": [
    {
     "name": "stdout",
     "output_type": "stream",
     "text": [
      "9\n",
      "1 2 X 4 5 X 7 8 X "
     ]
    }
   ],
   "source": [
    "#83\n",
    "a=int(input())\n",
    "\n",
    "for i in range(1,a+1):\n",
    "    if i%3 == 0:\n",
    "        print(\"X\",end=' ') \n",
    "    else:\n",
    "        print(i,end=' ')\n"
   ]
  },
  {
   "cell_type": "code",
   "execution_count": 1,
   "metadata": {},
   "outputs": [
    {
     "name": "stdout",
     "output_type": "stream",
     "text": [
      "2 2 2\n",
      "0 0 0\n",
      "0 0 1\n",
      "0 1 0\n",
      "0 1 1\n",
      "1 0 0\n",
      "1 0 1\n",
      "1 1 0\n",
      "1 1 1\n",
      "8\n"
     ]
    }
   ],
   "source": [
    "#1084\n",
    "# 빨강(red), 초록(green), 파랑(blue) 빛을 섞어\n",
    "# 여러 가지 빛의 색을 만들어 내려고 한다.\n",
    "\n",
    "# 빨강(r), 초록(g), 파랑(b) 각각의 빛의 개수가 주어질 때,\n",
    "# (빛의 강약에 따라 0 ~ n-1 까지 n가지의 빛 색깔을 만들 수 있다.)\n",
    "\n",
    "# 주어진 rgb 빛들을 다르게 섞어 만들 수 있는 모든 경우의 조합(r g b)과\n",
    "# 총 가짓 수를 계산해보자.\n",
    "r,g,b = input().split()\n",
    "r=int(r)\n",
    "g=int(g)\n",
    "b=int(b)\n",
    "n=0\n",
    "for i in range(r):\n",
    "    for j in range(g):\n",
    "        for k in range(b):\n",
    "            print(i,j,k)\n",
    "            n+=1\n",
    "print(n)            "
   ]
  },
  {
   "cell_type": "code",
   "execution_count": 18,
   "metadata": {},
   "outputs": [
    {
     "name": "stdout",
     "output_type": "stream",
     "text": [
      "10 10 12\n",
      "0.00 MB\n"
     ]
    }
   ],
   "source": [
    "# 1086   #부동소수 자리에 유의\n",
    "w,h,b = input().split()\n",
    "w=int(w)\n",
    "h=int(h)\n",
    "b=int(b)\n",
    "\n",
    "a =w*h*b/8/1024/1024\n",
    "print(\"%.2f MB\" %a) ######  %.2f ~~~~ %a\n",
    "\n",
    "\n"
   ]
  },
  {
   "cell_type": "code",
   "execution_count": 24,
   "metadata": {},
   "outputs": [
    {
     "name": "stdout",
     "output_type": "stream",
     "text": [
      "57\n",
      "1\n",
      "3\n",
      "6\n",
      "10\n",
      "15\n",
      "21\n",
      "28\n",
      "36\n",
      "45\n",
      "55\n",
      "66\n",
      "66\n"
     ]
    }
   ],
   "source": [
    "##1087\n",
    "a= int(input())\n",
    "n=0\n",
    "s=0\n",
    "while s <a:\n",
    "    n=n+1\n",
    "    s=s+n\n",
    "    ##print(s)\n",
    "print(s)    \n",
    "    \n",
    "\n"
   ]
  },
  {
   "cell_type": "code",
   "execution_count": 26,
   "metadata": {},
   "outputs": [
    {
     "name": "stdout",
     "output_type": "stream",
     "text": [
      "10\n",
      "1 2 4 5 7 8 10 "
     ]
    }
   ],
   "source": [
    "#88\n",
    "a=int(input())\n",
    "\n",
    "for i in range(1,a+1):\n",
    "    if i%3==0 :\n",
    "        continue\n",
    "    else:\n",
    "        print(i,end=' ')\n",
    "\n"
   ]
  },
  {
   "cell_type": "code",
   "execution_count": 30,
   "metadata": {},
   "outputs": [
    {
     "name": "stdout",
     "output_type": "stream",
     "text": [
      "1 3 5\n",
      "13\n"
     ]
    }
   ],
   "source": [
    "#89\n",
    "a,d,n= input().split()\n",
    "a= int(a)\n",
    "d= int(d)\n",
    "n= int(n)\n",
    "\n",
    "print(a+d*(n-1))\n",
    "     \n",
    "    \n",
    "\n"
   ]
  },
  {
   "cell_type": "code",
   "execution_count": 32,
   "metadata": {},
   "outputs": [
    {
     "name": "stdout",
     "output_type": "stream",
     "text": [
      "2 3 7\n",
      "1458\n"
     ]
    }
   ],
   "source": [
    "#90\n",
    "a,d,n= input().split()\n",
    "a= int(a)\n",
    "d= int(d)\n",
    "n= int(n)\n",
    "print(a*d**(n-1))"
   ]
  },
  {
   "cell_type": "code",
   "execution_count": 1,
   "metadata": {},
   "outputs": [
    {
     "name": "stdout",
     "output_type": "stream",
     "text": [
      "1 -2 1 8\n",
      "16\n"
     ]
    }
   ],
   "source": [
    "#91\n",
    "a,m,d,n= input().split()\n",
    "a= int(a)\n",
    "m= int(m)\n",
    "d= int(d)\n",
    "n= int(n)\n",
    "print(a-m*n-d)"
   ]
  },
  {
   "cell_type": "code",
   "execution_count": 1,
   "metadata": {},
   "outputs": [
    {
     "name": "stdout",
     "output_type": "stream",
     "text": [
      "3 7 9\n",
      "63\n"
     ]
    }
   ],
   "source": [
    "\n",
    "##92\n",
    "a,b,c= input().split()\n",
    "a=int(a)\n",
    "b=int(b)\n",
    "c=int(c)\n",
    "n=1\n",
    "while (n%a!=0)or(n%b!=0)or(n%c!=0):\n",
    "    n+=1\n",
    "print(n)    "
   ]
  },
  {
   "cell_type": "code",
   "execution_count": 25,
   "metadata": {},
   "outputs": [
    {
     "name": "stdout",
     "output_type": "stream",
     "text": [
      "10 \n",
      "1 3 2 2 5 6 7 4 5 9\n",
      "1 2 1 1 2 1 1 0 1 0 0 0 0 0 0 0 0 0 0 0 0 0 0 0 "
     ]
    }
   ],
   "source": [
    "## 93\n",
    "# from random import *\n",
    "n=int(input())+1  # 출석번호를 부른 횟수     10 \n",
    "m=input().split() # 무작위로 부른 n개의 번호 m[0],m[1],....m[9]/// 1 3 2 2 5 6 7 4 5 9\n",
    "m=[int(i) for i in m] # 정수타입\n",
    "# l=list(range(24))\n",
    "# l=[0 for i in l] # 정수타입\n",
    "for i in range(23):\n",
    "#     l[i]=m.count(i+1)\n",
    "    print(m.count(i+1),end=' ')    "
   ]
  },
  {
   "cell_type": "code",
   "execution_count": 2,
   "metadata": {},
   "outputs": [
    {
     "name": "stdout",
     "output_type": "stream",
     "text": [
      "10\n",
      "10 4 2 3 6 6 7 9 8 5\n",
      "5 8 9 7 6 6 3 2 4 10 "
     ]
    }
   ],
   "source": [
    "#94\n",
    "n=int(input())+1  # 출석번호를 부른 횟수     10 \n",
    "m=input().split() # 무작위로 부른 n개의 번호 m[0],m[1],....m[9]/// 1 3 2 2 5 6 7 4 5 9\n",
    "m=[int(i) for i in m] # 정수타입  부른번호..\n",
    "m.reverse()\n",
    "for i in m:\n",
    "    print(i,end=' ')\n",
    "\n",
    "    \n",
    "    \n"
   ]
  },
  {
   "cell_type": "code",
   "execution_count": 6,
   "metadata": {},
   "outputs": [
    {
     "name": "stdout",
     "output_type": "stream",
     "text": [
      "10\n",
      "10 4 2 3 6 6 7 9 8 5\n",
      "2\n"
     ]
    }
   ],
   "source": [
    "#95\n",
    "n=int(input())+1  # 출석번호를 부른 횟수     10 \n",
    "m=input().split()\n",
    "m=[int(i) for i in m] \n",
    "m.sort()\n",
    "print(m[0])"
   ]
  },
  {
   "cell_type": "code",
   "execution_count": 2,
   "metadata": {},
   "outputs": [
    {
     "name": "stdout",
     "output_type": "stream",
     "text": [
      "2\n"
     ]
    },
    {
     "data": {
      "text/plain": [
       "int"
      ]
     },
     "execution_count": 2,
     "metadata": {},
     "output_type": "execute_result"
    }
   ],
   "source": [
    "#96 \n",
    "n=input()\n",
    "n= int(n)\n",
    "x= \n",
    "\n",
    "for i in range(n):\n",
    "    a,b=input().split() ##n개 만큼의 x,y좌표를 만들수 있을까\n",
    "    a=int(a)\n",
    "    b=int(b)\n",
    "    \n",
    "\n",
    "\n",
    "\n"
   ]
  },
  {
   "cell_type": "code",
   "execution_count": 5,
   "metadata": {},
   "outputs": [
    {
     "data": {
      "text/plain": [
       "[0, 0, 0, 0, 0, 0, 0, 0, 0, 0, 0, 0, 0, 0, 0, 0, 0, 0, 0]"
      ]
     },
     "execution_count": 5,
     "metadata": {},
     "output_type": "execute_result"
    }
   ],
   "source": [
    "x= [0]*19\n",
    "x"
   ]
  },
  {
   "cell_type": "code",
   "execution_count": 18,
   "metadata": {},
   "outputs": [
    {
     "name": "stdout",
     "output_type": "stream",
     "text": [
      "0 0 0 0 0 0 0 0 0 0 0 0 0 0 0\n",
      "\n",
      "0 0 0 0 0 0 0 0 0 0 0 0 0 0 0\n",
      "\n",
      "0 0 0 0 0 0 0 0 0 0 0 0 0 0 0\n",
      "\n",
      "0 0 0 0 0 0 0 0 0 0 0 0 0 0 0\n",
      "\n",
      "0 0 0 0 0 0 0 0 0 0 0 0 0 0 0\n",
      "\n",
      "0 0 0 0 0 0 0 0 0 0 0 0 0 0 0\n",
      "\n",
      "0 0 0 0 0 0 0 0 0 0 0 0 0 0 0\n",
      "\n",
      "0 0 0 0 0 0 0 0 0 0 0 0 0 0 0\n",
      "\n",
      "0 0 0 0 0 0 0 0 0 0 0 0 0 0 0\n",
      "\n",
      "0 0 0 0 0 0 0 0 0 0 0 0 0 0 0\n",
      "\n",
      "0 0 0 0 0 0 0 0 0 0 0 0 0 0 0\n",
      "\n",
      "0 0 0 0 0 0 0 0 0 0 0 0 0 0 0\n",
      "\n",
      "0 0 0 0 0 0 0 0 0 0 0 0 0 0 0\n",
      "\n",
      "0 0 0 0 0 0 0 0 0 0 0 0 0 0 0\n",
      "\n",
      "0 0 0 0 0 0 0 0 0 0 0 0 0 0 0\n",
      "\n"
     ]
    }
   ],
   "source": [
    "\n",
    "for i in range(15):\n",
    "    for j in range(15):\n",
    "        if j==14:\n",
    "            print(\"0\\n\")\n",
    "        else:\n",
    "            print(0,end=' ')"
   ]
  },
  {
   "cell_type": "code",
   "execution_count": 19,
   "metadata": {},
   "outputs": [],
   "source": [
    "a=[[11,12,13,14],[21,22,23,24]]"
   ]
  },
  {
   "cell_type": "code",
   "execution_count": 47,
   "metadata": {},
   "outputs": [
    {
     "data": {
      "text/plain": [
       "0"
      ]
     },
     "execution_count": 47,
     "metadata": {},
     "output_type": "execute_result"
    }
   ],
   "source": []
  },
  {
   "cell_type": "code",
   "execution_count": 60,
   "metadata": {},
   "outputs": [
    {
     "name": "stdout",
     "output_type": "stream",
     "text": [
      "5\n",
      "1 1\n",
      "2 2\n",
      "3 3\n",
      "4 4\n",
      "5 5\n",
      "1 0 0 0 0 0 0 0 0 0 0 0 0 0 0 0 0 0 0 \n",
      "0 1 0 0 0 0 0 0 0 0 0 0 0 0 0 0 0 0 0 \n",
      "0 0 1 0 0 0 0 0 0 0 0 0 0 0 0 0 0 0 0 \n",
      "0 0 0 1 0 0 0 0 0 0 0 0 0 0 0 0 0 0 0 \n",
      "0 0 0 0 1 0 0 0 0 0 0 0 0 0 0 0 0 0 0 \n",
      "0 0 0 0 0 0 0 0 0 0 0 0 0 0 0 0 0 0 0 \n",
      "0 0 0 0 0 0 0 0 0 0 0 0 0 0 0 0 0 0 0 \n",
      "0 0 0 0 0 0 0 0 0 0 0 0 0 0 0 0 0 0 0 \n",
      "0 0 0 0 0 0 0 0 0 0 0 0 0 0 0 0 0 0 0 \n",
      "0 0 0 0 0 0 0 0 0 0 0 0 0 0 0 0 0 0 0 \n",
      "0 0 0 0 0 0 0 0 0 0 0 0 0 0 0 0 0 0 0 \n",
      "0 0 0 0 0 0 0 0 0 0 0 0 0 0 0 0 0 0 0 \n",
      "0 0 0 0 0 0 0 0 0 0 0 0 0 0 0 0 0 0 0 \n",
      "0 0 0 0 0 0 0 0 0 0 0 0 0 0 0 0 0 0 0 \n",
      "0 0 0 0 0 0 0 0 0 0 0 0 0 0 0 0 0 0 0 \n",
      "0 0 0 0 0 0 0 0 0 0 0 0 0 0 0 0 0 0 0 \n",
      "0 0 0 0 0 0 0 0 0 0 0 0 0 0 0 0 0 0 0 \n",
      "0 0 0 0 0 0 0 0 0 0 0 0 0 0 0 0 0 0 0 \n",
      "0 0 0 0 0 0 0 0 0 0 0 0 0 0 0 0 0 0 0 \n"
     ]
    }
   ],
   "source": [
    "##96\n",
    "n=int(input())\n",
    "array = [ [0 for x in range(19)] for y in range(19)] ##이중배열 선언 index는 0부터 시작이라는 것을 잊지 말기\n",
    "for i in range(n):\n",
    "    x,y= input().split()\n",
    "    x=int(x)\n",
    "    y=int(y)\n",
    "    array[x-1][y-1]=1\n",
    "for i in array:  ### 2차원 배열 리스트를 출력\n",
    "    for j in i:\n",
    "        print(j,end=' ')\n",
    "    print()"
   ]
  },
  {
   "cell_type": "code",
   "execution_count": 61,
   "metadata": {},
   "outputs": [
    {
     "ename": "NameError",
     "evalue": "name 'arr' is not defined",
     "output_type": "error",
     "traceback": [
      "\u001b[1;31m---------------------------------------------------------------------------\u001b[0m",
      "\u001b[1;31mNameError\u001b[0m                                 Traceback (most recent call last)",
      "\u001b[1;32m<ipython-input-61-5a93cd2e2b17>\u001b[0m in \u001b[0;36m<module>\u001b[1;34m\u001b[0m\n\u001b[0;32m      2\u001b[0m \u001b[1;31m# 십자 뒤집기 횟수(n)가 입력된다. -> n=int(input())\u001b[0m\u001b[1;33m\u001b[0m\u001b[1;33m\u001b[0m\u001b[1;33m\u001b[0m\u001b[0m\n\u001b[0;32m      3\u001b[0m \u001b[1;31m# 십자 뒤집기 좌표가 횟수(n) 만큼 입력된다. 단, n은 10이하의 자연수이다. for 문 으로 list 입력\u001b[0m\u001b[1;33m\u001b[0m\u001b[1;33m\u001b[0m\u001b[1;33m\u001b[0m\u001b[0m\n\u001b[1;32m----> 4\u001b[1;33m \u001b[0marr\u001b[0m\u001b[1;33m=\u001b[0m\u001b[1;33m[\u001b[0m \u001b[1;33m[\u001b[0m\u001b[1;36m0\u001b[0m \u001b[1;32mfor\u001b[0m \u001b[0mx\u001b[0m \u001b[1;32min\u001b[0m \u001b[0marr\u001b[0m\u001b[1;33m]\u001b[0m \u001b[1;32mfor\u001b[0m \u001b[0my\u001b[0m \u001b[1;32min\u001b[0m \u001b[0marr\u001b[0m\u001b[1;33m]\u001b[0m\u001b[1;33m\u001b[0m\u001b[1;33m\u001b[0m\u001b[0m\n\u001b[0m\u001b[0;32m      5\u001b[0m \u001b[0mn\u001b[0m\u001b[1;33m=\u001b[0m\u001b[0mint\u001b[0m\u001b[1;33m(\u001b[0m\u001b[0minput\u001b[0m\u001b[1;33m(\u001b[0m\u001b[1;33m)\u001b[0m\u001b[1;33m)\u001b[0m\u001b[1;33m\u001b[0m\u001b[1;33m\u001b[0m\u001b[0m\n\u001b[0;32m      6\u001b[0m \u001b[1;32mif\u001b[0m \u001b[0mn\u001b[0m\u001b[1;33m>\u001b[0m\u001b[1;36m10\u001b[0m\u001b[1;33m:\u001b[0m\u001b[1;33m\u001b[0m\u001b[1;33m\u001b[0m\u001b[0m\n",
      "\u001b[1;31mNameError\u001b[0m: name 'arr' is not defined"
     ]
    }
   ],
   "source": [
    "# 바둑알이 깔려 있는 상황이 19 * 19 크기의 정수값으로 입력된다.  -> list로 받는다\n",
    "# 십자 뒤집기 횟수(n)가 입력된다. -> n=int(input())\n",
    "# 십자 뒤집기 좌표가 횟수(n) 만큼 입력된다. 단, n은 10이하의 자연수이다. for 문 으로 list 입력\n",
    "\n",
    "arr=[ [0 for x in arr] for y in arr]\n",
    "n=int(input())\n",
    "if n>10:\n",
    "    n=int(input())\n",
    "for i in range(n):\n",
    "    x,y=input().split()\n",
    "    \n",
    "    \n",
    "\n",
    "\n"
   ]
  },
  {
   "cell_type": "code",
   "execution_count": 81,
   "metadata": {},
   "outputs": [
    {
     "name": "stdout",
     "output_type": "stream",
     "text": [
      "0 0 0 0 0 0 0 0 0 0 0 0 0 0 0 0 0 0 0 \n",
      "0 0 0 0 0 0 0 0 0 0 0 0 0 0 0 0 0 0 0 \n",
      "0 0 0 0 0 0 0 0 0 0 0 0 0 0 0 0 0 0 0 \n",
      "0 0 0 0 0 0 0 0 0 0 0 0 0 0 0 0 0 0 0 \n",
      "0 0 0 0 0 0 0 0 0 0 0 0 0 0 0 0 0 0 0 \n",
      "0 0 0 0 0 0 0 0 0 0 0 0 0 0 0 0 0 0 0 \n",
      "0 0 0 0 0 0 0 0 0 0 0 0 0 0 0 0 0 0 0 \n",
      "0 0 0 0 0 0 0 0 0 0 0 0 0 0 0 0 0 0 0 \n",
      "0 0 0 0 0 0 0 0 0 0 0 0 0 0 0 0 0 0 0 \n",
      "0 0 0 0 0 0 0 0 0 0 0 0 0 0 0 0 0 0 0 \n",
      "0 0 0 0 0 0 0 0 0 0 0 0 0 0 0 0 0 0 0 \n",
      "0 0 0 0 0 0 0 0 0 0 0 0 0 0 0 0 0 0 0 \n",
      "0 0 0 0 0 0 0 0 0 0 0 0 0 0 0 0 0 0 0 \n",
      "0 0 0 0 0 0 0 0 0 0 0 0 0 0 0 0 0 0 0 \n",
      "0 0 0 0 0 0 0 0 0 0 0 0 0 0 0 0 0 0 0 \n",
      "0 0 0 0 0 0 0 0 0 0 0 0 0 0 0 0 0 0 0 \n",
      "0 0 0 0 0 0 0 0 0 0 0 0 0 0 0 0 0 0 0 \n",
      "0 0 0 0 0 0 0 0 0 0 0 0 0 0 0 0 0 0 0 \n",
      "0 0 0 0 0 0 0 0 0 0 0 0 0 0 0 0 0 0 0 \n"
     ]
    }
   ],
   "source": [
    "arr=[ [0 for x in range(19)] for y in range(19)]\n",
    "\n",
    "for i in arr:\n",
    "    for j in i:\n",
    "        print(j,end=' ')\n",
    "    print()   ## 이유 무엇? print함수는 기본적으로  \\n을 포함하고 있어서 줄 넘김 효과 라고 볼 수 있다.\n",
    "    "
   ]
  },
  {
   "cell_type": "code",
   "execution_count": 2,
   "metadata": {},
   "outputs": [
    {
     "name": "stdout",
     "output_type": "stream",
     "text": [
      "0 0 0 0 0 0 0 0 0 1 0 1 0 0 0 0 0 0 0\n",
      "0 0 0 0 0 0 0 0 0 1 0 1 0 0 0 0 0 0 0\n",
      "0 0 0 0 0 0 0 0 0 1 0 1 0 0 0 0 0 0 0\n",
      "0 0 0 0 0 0 0 0 0 1 0 1 0 0 0 0 0 0 0\n",
      "0 0 0 0 0 0 0 0 0 1 0 1 0 0 0 0 0 0 0\n",
      "0 0 0 0 0 0 0 0 0 1 0 1 0 0 0 0 0 0 0\n",
      "0 0 0 0 0 0 0 0 0 1 0 1 0 0 0 0 0 0 0\n",
      "0 0 0 0 0 0 0 0 0 1 0 1 0 0 0 0 0 0 0\n",
      "0 0 0 0 0 0 0 0 0 1 0 1 0 0 0 0 0 0 0\n",
      "1 1 1 1 1 1 1 1 1 1 1 1 1 1 1 1 1 1 1\n",
      "0 0 0 0 0 0 0 0 0 1 0 1 0 0 0 0 0 0 0\n",
      "1 1 1 1 1 1 1 1 1 1 1 1 1 1 1 1 1 1 1\n",
      "0 0 0 0 0 0 0 0 0 1 0 1 0 0 0 0 0 0 0\n",
      "0 0 0 0 0 0 0 0 0 1 0 1 0 0 0 0 0 0 0\n",
      "0 0 0 0 0 0 0 0 0 1 0 1 0 0 0 0 0 0 0\n",
      "0 0 0 0 0 0 0 0 0 1 0 1 0 0 0 0 0 0 0\n",
      "0 0 0 0 0 0 0 0 0 1 0 1 0 0 0 0 0 0 0\n",
      "0 0 0 0 0 0 0 0 0 1 0 1 0 0 0 0 0 0 0\n",
      "0 0 0 0 0 0 0 0 0 1 0 1 0 0 0 0 0 0 0\n",
      "2\n",
      "10 10\n",
      "12 12\n",
      "0 0 0 0 0 0 0 0 0 1 0 1 0 0 0 0 0 0 0 \n",
      "0 0 0 0 0 0 0 0 0 1 0 1 0 0 0 0 0 0 0 \n",
      "0 0 0 0 0 0 0 0 0 1 0 1 0 0 0 0 0 0 0 \n",
      "0 0 0 0 0 0 0 0 0 1 0 1 0 0 0 0 0 0 0 \n",
      "0 0 0 0 0 0 0 0 0 1 0 1 0 0 0 0 0 0 0 \n",
      "0 0 0 0 0 0 0 0 0 1 0 1 0 0 0 0 0 0 0 \n",
      "0 0 0 0 0 0 0 0 0 1 0 1 0 0 0 0 0 0 0 \n",
      "0 0 0 0 0 0 0 0 0 1 0 1 0 0 0 0 0 0 0 \n",
      "0 0 0 0 0 0 0 0 0 1 0 1 0 0 0 0 0 0 0 \n",
      "1 1 1 1 1 1 1 1 1 1 1 1 1 1 1 1 1 1 1 \n",
      "0 0 0 0 0 0 0 0 0 1 0 1 0 0 0 0 0 0 0 \n",
      "1 1 1 1 1 1 1 1 1 1 1 1 1 1 1 1 1 1 1 \n",
      "0 0 0 0 0 0 0 0 0 1 0 1 0 0 0 0 0 0 0 \n",
      "0 0 0 0 0 0 0 0 0 1 0 1 0 0 0 0 0 0 0 \n",
      "0 0 0 0 0 0 0 0 0 1 0 1 0 0 0 0 0 0 0 \n",
      "0 0 0 0 0 0 0 0 0 1 0 1 0 0 0 0 0 0 0 \n",
      "0 0 0 0 0 0 0 0 0 1 0 1 0 0 0 0 0 0 0 \n",
      "0 0 0 0 0 0 0 0 0 1 0 1 0 0 0 0 0 0 0 \n",
      "0 0 0 0 0 0 0 0 0 1 0 1 0 0 0 0 0 0 0 \n"
     ]
    }
   ],
   "source": [
    "# arr=[ [int(0) for x in range(3)] for y in range(3)] #정수형 2차원 배열 만들기##\n",
    "arr=[]\n",
    "for i in range(19):\n",
    "    r= input().split()\n",
    "    arr.append(r)\n",
    "n= int(input())\n",
    "for i in range(n):\n",
    "    x,y=input().split()\n",
    "    x=int(x)\n",
    "    y=int(y)\n",
    "    if arr[x-1][y-1]==0:\n",
    "        arr[x-1][y-1]=1\n",
    "    elif arr[x-1][y-1]==1:\n",
    "        arr[x-1][y-1]=0\n",
    "for i in arr:\n",
    "    for j in i:\n",
    "        print(j,end=' ')\n",
    "    print()    "
   ]
  },
  {
   "cell_type": "code",
   "execution_count": 29,
   "metadata": {},
   "outputs": [
    {
     "name": "stdout",
     "output_type": "stream",
     "text": [
      "1 2 3\n",
      "4 5 6\n",
      "7 8 9\n",
      "1\n",
      "1 1\n",
      "1 2 3 \n",
      "4 5 6 \n",
      "7 8 9 \n"
     ]
    }
   ],
   "source": [
    "# arr=[ [int(0) for x in range(3)] for y in range(3)] #정수형 2차원 배열 만들기##\n",
    "arr=[]\n",
    "for i in range(3):\n",
    "    r= input().split()\n",
    "    arr.append(r)\n",
    "n= int(input())\n",
    "for i in range(n):\n",
    "    x,y=input().split()\n",
    "    x=int(x)\n",
    "    y=int(y)\n",
    "    if arr[x-1][y-1]==0:\n",
    "        arr[x-1][y-1]=1\n",
    "    elif arr[x-1][y-1]==1:\n",
    "        arr[x-1][y-1]=0\n",
    "for i in arr:\n",
    "    for j in i:\n",
    "        print(j,end=' ')\n",
    "    print()    "
   ]
  },
  {
   "cell_type": "code",
   "execution_count": 33,
   "metadata": {},
   "outputs": [
    {
     "ename": "TypeError",
     "evalue": "list indices must be integers or slices, not tuple",
     "output_type": "error",
     "traceback": [
      "\u001b[1;31m---------------------------------------------------------------------------\u001b[0m",
      "\u001b[1;31mTypeError\u001b[0m                                 Traceback (most recent call last)",
      "\u001b[1;32m<ipython-input-33-c8c5be7f0c82>\u001b[0m in \u001b[0;36m<module>\u001b[1;34m\u001b[0m\n\u001b[1;32m----> 1\u001b[1;33m \u001b[0marr\u001b[0m\u001b[1;33m[\u001b[0m\u001b[1;33m:\u001b[0m\u001b[1;33m,\u001b[0m \u001b[1;33m:\u001b[0m\u001b[1;36m1\u001b[0m\u001b[1;33m]\u001b[0m\u001b[1;33m\u001b[0m\u001b[1;33m\u001b[0m\u001b[0m\n\u001b[0m",
      "\u001b[1;31mTypeError\u001b[0m: list indices must be integers or slices, not tuple"
     ]
    }
   ],
   "source": [
    "arr[:, :1]"
   ]
  },
  {
   "cell_type": "code",
   "execution_count": null,
   "metadata": {},
   "outputs": [],
   "source": []
  }
 ],
 "metadata": {
  "kernelspec": {
   "display_name": "Python 3",
   "language": "python",
   "name": "python3"
  },
  "language_info": {
   "codemirror_mode": {
    "name": "ipython",
    "version": 3
   },
   "file_extension": ".py",
   "mimetype": "text/x-python",
   "name": "python",
   "nbconvert_exporter": "python",
   "pygments_lexer": "ipython3",
   "version": "3.7.6"
  }
 },
 "nbformat": 4,
 "nbformat_minor": 4
}
